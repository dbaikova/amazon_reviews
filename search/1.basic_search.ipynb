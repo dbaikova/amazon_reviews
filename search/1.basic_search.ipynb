{
 "cells": [
  {
   "cell_type": "markdown",
   "id": "0c2c4806-8eb3-4580-b832-48ad8aa053b4",
   "metadata": {},
   "source": [
    "# Basic Search Techniques\n",
    "\n",
    "Experiments with basic search techniques on the Amazon Reviews dataset (products):\n",
    "- **Inverted Index**: Build an inverted index to map words to the documents they appear in.\n",
    "- **TF-IDF Search**: Use TF-IDF to compute term importance and document similarity.\n",
    "- **Sentence Transformers**: Utilize pre-trained embeddings from `SentenceTransformers` to compute semantic similarity and rank documents based on the query.\n"
   ]
  },
  {
   "cell_type": "code",
   "execution_count": null,
   "id": "4faff2c0-a0f6-4fc1-983c-eaa63ff30429",
   "metadata": {},
   "outputs": [],
   "source": [
    "import os\n",
    "import numpy as np\n",
    "import pandas as pd\n",
    "from tqdm import tqdm\n",
    "\n",
    "tqdm.pandas()\n",
    "\n",
    "from collections import defaultdict\n",
    "from datasets import load_dataset\n",
    "\n",
    "from sklearn.feature_extraction.text import TfidfVectorizer\n",
    "from sklearn.metrics.pairwise import cosine_similarity\n",
    "\n",
    "os.chdir(\"../\")\n",
    "from aux.text_pre_processing import (\n",
    "    combine_text_features,\n",
    "    pre_process_text,\n",
    "    pre_process_query,\n",
    ")\n",
    "\n",
    "pd.set_option(\"display.max_colwidth\", 150)"
   ]
  },
  {
   "cell_type": "markdown",
   "id": "0fc4917b-e04b-4da0-9207-e9bb98b4b912",
   "metadata": {},
   "source": [
    "# Load Data"
   ]
  },
  {
   "cell_type": "code",
   "execution_count": 2,
   "id": "8f4398b9-da28-44f9-88ee-f885c0d9bc80",
   "metadata": {},
   "outputs": [],
   "source": [
    "dataset_items = load_dataset(\n",
    "    \"McAuley-Lab/Amazon-Reviews-2023\",\n",
    "    \"raw_meta_All_Beauty\",\n",
    "    split=\"full\",\n",
    "    trust_remote_code=True,\n",
    ")\n",
    "df = dataset_items.to_pandas()"
   ]
  },
  {
   "cell_type": "code",
   "execution_count": 3,
   "id": "389e7262-3014-4306-8911-23e9b323ef82",
   "metadata": {},
   "outputs": [
    {
     "data": {
      "text/html": [
       "<div>\n",
       "<style scoped>\n",
       "    .dataframe tbody tr th:only-of-type {\n",
       "        vertical-align: middle;\n",
       "    }\n",
       "\n",
       "    .dataframe tbody tr th {\n",
       "        vertical-align: top;\n",
       "    }\n",
       "\n",
       "    .dataframe thead th {\n",
       "        text-align: right;\n",
       "    }\n",
       "</style>\n",
       "<table border=\"1\" class=\"dataframe\">\n",
       "  <thead>\n",
       "    <tr style=\"text-align: right;\">\n",
       "      <th></th>\n",
       "      <th>main_category</th>\n",
       "      <th>title</th>\n",
       "      <th>average_rating</th>\n",
       "      <th>rating_number</th>\n",
       "      <th>features</th>\n",
       "      <th>description</th>\n",
       "      <th>price</th>\n",
       "      <th>images</th>\n",
       "      <th>videos</th>\n",
       "      <th>store</th>\n",
       "      <th>categories</th>\n",
       "      <th>details</th>\n",
       "      <th>parent_asin</th>\n",
       "      <th>bought_together</th>\n",
       "      <th>subtitle</th>\n",
       "      <th>author</th>\n",
       "    </tr>\n",
       "  </thead>\n",
       "  <tbody>\n",
       "    <tr>\n",
       "      <th>0</th>\n",
       "      <td>All Beauty</td>\n",
       "      <td>Howard LC0008 Leather Conditioner, 8-Ounce (4-Pack)</td>\n",
       "      <td>4.8</td>\n",
       "      <td>10</td>\n",
       "      <td>[]</td>\n",
       "      <td>[]</td>\n",
       "      <td>None</td>\n",
       "      <td>{'hi_res': [None, 'https://m.media-amazon.com/images/I/71i77AuI9xL._SL1500_.jpg'], 'large': ['https://m.media-amazon.com/images/I/41qfjSfqNyL.jpg'...</td>\n",
       "      <td>{'title': [], 'url': [], 'user_id': []}</td>\n",
       "      <td>Howard Products</td>\n",
       "      <td>[]</td>\n",
       "      <td>{\"Package Dimensions\": \"7.1 x 5.5 x 3 inches; 2.38 Pounds\", \"UPC\": \"617390882781\"}</td>\n",
       "      <td>B01CUPMQZE</td>\n",
       "      <td>None</td>\n",
       "      <td>None</td>\n",
       "      <td>None</td>\n",
       "    </tr>\n",
       "    <tr>\n",
       "      <th>1</th>\n",
       "      <td>All Beauty</td>\n",
       "      <td>Yes to Tomatoes Detoxifying Charcoal Cleanser (Pack of 2) with Charcoal Powder, Tomato Fruit Extract, and Gingko Biloba Leaf Extract, 5 fl. oz.</td>\n",
       "      <td>4.5</td>\n",
       "      <td>3</td>\n",
       "      <td>[]</td>\n",
       "      <td>[]</td>\n",
       "      <td>None</td>\n",
       "      <td>{'hi_res': ['https://m.media-amazon.com/images/I/71g1lP0pMbL._SL1500_.jpg', 'https://m.media-amazon.com/images/I/81OqvR94isL._SL1500_.jpg'], 'larg...</td>\n",
       "      <td>{'title': [], 'url': [], 'user_id': []}</td>\n",
       "      <td>Yes To</td>\n",
       "      <td>[]</td>\n",
       "      <td>{\"Item Form\": \"Powder\", \"Skin Type\": \"Acne Prone\", \"Brand\": \"Yes To\", \"Age Range (Description)\": \"Adult\", \"Unit Count\": \"10 Fl Oz\", \"Is Discontinu...</td>\n",
       "      <td>B076WQZGPM</td>\n",
       "      <td>None</td>\n",
       "      <td>None</td>\n",
       "      <td>None</td>\n",
       "    </tr>\n",
       "    <tr>\n",
       "      <th>2</th>\n",
       "      <td>All Beauty</td>\n",
       "      <td>Eye Patch Black Adult with Tie Band (6 Per Pack)</td>\n",
       "      <td>4.4</td>\n",
       "      <td>26</td>\n",
       "      <td>[]</td>\n",
       "      <td>[]</td>\n",
       "      <td>None</td>\n",
       "      <td>{'hi_res': [None, None], 'large': ['https://m.media-amazon.com/images/I/31bz+uqzWCL.jpg', 'https://m.media-amazon.com/images/I/31bz+uqzWCL.jpg'], ...</td>\n",
       "      <td>{'title': [], 'url': [], 'user_id': []}</td>\n",
       "      <td>Levine Health Products</td>\n",
       "      <td>[]</td>\n",
       "      <td>{\"Manufacturer\": \"Levine Health Products\"}</td>\n",
       "      <td>B000B658RI</td>\n",
       "      <td>None</td>\n",
       "      <td>None</td>\n",
       "      <td>None</td>\n",
       "    </tr>\n",
       "    <tr>\n",
       "      <th>3</th>\n",
       "      <td>All Beauty</td>\n",
       "      <td>Tattoo Eyebrow Stickers, Waterproof Eyebrow, 4D Imitation Eyebrow Tattoos, 4D Hair-like Authentic Eyebrows Waterproof Long Lasting for Woman &amp; Man...</td>\n",
       "      <td>3.1</td>\n",
       "      <td>102</td>\n",
       "      <td>[]</td>\n",
       "      <td>[]</td>\n",
       "      <td>None</td>\n",
       "      <td>{'hi_res': ['https://m.media-amazon.com/images/I/71GJhXQGvyL._SL1500_.jpg', 'https://m.media-amazon.com/images/I/61NS1lONhzL._SL1001_.jpg', 'https...</td>\n",
       "      <td>{'title': [], 'url': [], 'user_id': []}</td>\n",
       "      <td>Cherioll</td>\n",
       "      <td>[]</td>\n",
       "      <td>{\"Brand\": \"Cherioll\", \"Item Form\": \"Powder\", \"Finish Type\": \"Natural\", \"Product Benefits\": \"Long Lasting\", \"Skin Type\": \"All\", \"Package Dimensions...</td>\n",
       "      <td>B088FKY3VD</td>\n",
       "      <td>None</td>\n",
       "      <td>None</td>\n",
       "      <td>None</td>\n",
       "    </tr>\n",
       "    <tr>\n",
       "      <th>4</th>\n",
       "      <td>All Beauty</td>\n",
       "      <td>Precision Plunger Bars for Cartridge Grips – 93mm – Bag of 10 Plungers</td>\n",
       "      <td>4.3</td>\n",
       "      <td>7</td>\n",
       "      <td>[Material: 304 Stainless Steel; Brass tip, Lengths Available: 88mm, 93mm, 98mm, Accepts cartridge needles with vice style tattoo machines, Works p...</td>\n",
       "      <td>[The Precision Plunger Bars are designed to work seamlessly with the Precision Disposable 1. 25\" Contoured Soft Cartridge Grips and the Precision ...</td>\n",
       "      <td>None</td>\n",
       "      <td>{'hi_res': [None], 'large': ['https://m.media-amazon.com/images/I/31TgqAZ8kQL.jpg'], 'thumb': ['https://m.media-amazon.com/images/I/31TgqAZ8kQL._S...</td>\n",
       "      <td>{'title': [], 'url': [], 'user_id': []}</td>\n",
       "      <td>Precision</td>\n",
       "      <td>[]</td>\n",
       "      <td>{\"UPC\": \"644287689178\"}</td>\n",
       "      <td>B07NGFDN6G</td>\n",
       "      <td>None</td>\n",
       "      <td>None</td>\n",
       "      <td>None</td>\n",
       "    </tr>\n",
       "  </tbody>\n",
       "</table>\n",
       "</div>"
      ],
      "text/plain": [
       "  main_category  \\\n",
       "0    All Beauty   \n",
       "1    All Beauty   \n",
       "2    All Beauty   \n",
       "3    All Beauty   \n",
       "4    All Beauty   \n",
       "\n",
       "                                                                                                                                                   title  \\\n",
       "0                                                                                                    Howard LC0008 Leather Conditioner, 8-Ounce (4-Pack)   \n",
       "1        Yes to Tomatoes Detoxifying Charcoal Cleanser (Pack of 2) with Charcoal Powder, Tomato Fruit Extract, and Gingko Biloba Leaf Extract, 5 fl. oz.   \n",
       "2                                                                                                       Eye Patch Black Adult with Tie Band (6 Per Pack)   \n",
       "3  Tattoo Eyebrow Stickers, Waterproof Eyebrow, 4D Imitation Eyebrow Tattoos, 4D Hair-like Authentic Eyebrows Waterproof Long Lasting for Woman & Man...   \n",
       "4                                                                                 Precision Plunger Bars for Cartridge Grips – 93mm – Bag of 10 Plungers   \n",
       "\n",
       "   average_rating  rating_number  \\\n",
       "0             4.8             10   \n",
       "1             4.5              3   \n",
       "2             4.4             26   \n",
       "3             3.1            102   \n",
       "4             4.3              7   \n",
       "\n",
       "                                                                                                                                                features  \\\n",
       "0                                                                                                                                                     []   \n",
       "1                                                                                                                                                     []   \n",
       "2                                                                                                                                                     []   \n",
       "3                                                                                                                                                     []   \n",
       "4  [Material: 304 Stainless Steel; Brass tip, Lengths Available: 88mm, 93mm, 98mm, Accepts cartridge needles with vice style tattoo machines, Works p...   \n",
       "\n",
       "                                                                                                                                             description  \\\n",
       "0                                                                                                                                                     []   \n",
       "1                                                                                                                                                     []   \n",
       "2                                                                                                                                                     []   \n",
       "3                                                                                                                                                     []   \n",
       "4  [The Precision Plunger Bars are designed to work seamlessly with the Precision Disposable 1. 25\" Contoured Soft Cartridge Grips and the Precision ...   \n",
       "\n",
       "  price  \\\n",
       "0  None   \n",
       "1  None   \n",
       "2  None   \n",
       "3  None   \n",
       "4  None   \n",
       "\n",
       "                                                                                                                                                  images  \\\n",
       "0  {'hi_res': [None, 'https://m.media-amazon.com/images/I/71i77AuI9xL._SL1500_.jpg'], 'large': ['https://m.media-amazon.com/images/I/41qfjSfqNyL.jpg'...   \n",
       "1  {'hi_res': ['https://m.media-amazon.com/images/I/71g1lP0pMbL._SL1500_.jpg', 'https://m.media-amazon.com/images/I/81OqvR94isL._SL1500_.jpg'], 'larg...   \n",
       "2  {'hi_res': [None, None], 'large': ['https://m.media-amazon.com/images/I/31bz+uqzWCL.jpg', 'https://m.media-amazon.com/images/I/31bz+uqzWCL.jpg'], ...   \n",
       "3  {'hi_res': ['https://m.media-amazon.com/images/I/71GJhXQGvyL._SL1500_.jpg', 'https://m.media-amazon.com/images/I/61NS1lONhzL._SL1001_.jpg', 'https...   \n",
       "4  {'hi_res': [None], 'large': ['https://m.media-amazon.com/images/I/31TgqAZ8kQL.jpg'], 'thumb': ['https://m.media-amazon.com/images/I/31TgqAZ8kQL._S...   \n",
       "\n",
       "                                    videos                   store categories  \\\n",
       "0  {'title': [], 'url': [], 'user_id': []}         Howard Products         []   \n",
       "1  {'title': [], 'url': [], 'user_id': []}                  Yes To         []   \n",
       "2  {'title': [], 'url': [], 'user_id': []}  Levine Health Products         []   \n",
       "3  {'title': [], 'url': [], 'user_id': []}                Cherioll         []   \n",
       "4  {'title': [], 'url': [], 'user_id': []}               Precision         []   \n",
       "\n",
       "                                                                                                                                                 details  \\\n",
       "0                                                                     {\"Package Dimensions\": \"7.1 x 5.5 x 3 inches; 2.38 Pounds\", \"UPC\": \"617390882781\"}   \n",
       "1  {\"Item Form\": \"Powder\", \"Skin Type\": \"Acne Prone\", \"Brand\": \"Yes To\", \"Age Range (Description)\": \"Adult\", \"Unit Count\": \"10 Fl Oz\", \"Is Discontinu...   \n",
       "2                                                                                                             {\"Manufacturer\": \"Levine Health Products\"}   \n",
       "3  {\"Brand\": \"Cherioll\", \"Item Form\": \"Powder\", \"Finish Type\": \"Natural\", \"Product Benefits\": \"Long Lasting\", \"Skin Type\": \"All\", \"Package Dimensions...   \n",
       "4                                                                                                                                {\"UPC\": \"644287689178\"}   \n",
       "\n",
       "  parent_asin bought_together subtitle author  \n",
       "0  B01CUPMQZE            None     None   None  \n",
       "1  B076WQZGPM            None     None   None  \n",
       "2  B000B658RI            None     None   None  \n",
       "3  B088FKY3VD            None     None   None  \n",
       "4  B07NGFDN6G            None     None   None  "
      ]
     },
     "execution_count": 3,
     "metadata": {},
     "output_type": "execute_result"
    }
   ],
   "source": [
    "df.head()"
   ]
  },
  {
   "cell_type": "code",
   "execution_count": 4,
   "id": "55340f78-ab38-4f14-a747-e4b37d41ea83",
   "metadata": {},
   "outputs": [
    {
     "data": {
      "text/plain": [
       "Index(['main_category', 'title', 'average_rating', 'rating_number', 'features',\n",
       "       'description', 'price', 'images', 'videos', 'store', 'categories',\n",
       "       'details', 'parent_asin', 'bought_together', 'subtitle', 'author'],\n",
       "      dtype='object')"
      ]
     },
     "execution_count": 4,
     "metadata": {},
     "output_type": "execute_result"
    }
   ],
   "source": [
    "df.columns"
   ]
  },
  {
   "cell_type": "code",
   "execution_count": 5,
   "id": "40bd9612-5d7d-4f93-90b2-b0ee0fb0adb5",
   "metadata": {},
   "outputs": [],
   "source": [
    "# Pre process"
   ]
  },
  {
   "cell_type": "code",
   "execution_count": 6,
   "id": "db085acd-5119-4bfb-9c7f-b94672b594e2",
   "metadata": {},
   "outputs": [],
   "source": [
    "# item features\n",
    "df[\"title_description_features\"] = df.apply(\n",
    "    lambda row: combine_text_features(\n",
    "        row, col1=\"title\", col2=\"features\", col3=\"description\"\n",
    "    ),\n",
    "    axis=1,\n",
    ")\n",
    "df = pre_process_text(\n",
    "    df,\n",
    "    input_col=\"title_description_features\",\n",
    "    output_col=\"product_title_description_feature_pre_processed\",\n",
    ")"
   ]
  },
  {
   "cell_type": "markdown",
   "id": "6ae6dc1a-8a48-49f7-9e91-adf469d8846c",
   "metadata": {},
   "source": [
    "##  Filter by minimum ammount of words\n",
    "\n",
    "* some of the shorter descriptions are bad"
   ]
  },
  {
   "cell_type": "code",
   "execution_count": 10,
   "id": "c58b5080-a26d-4ae4-9583-6f9580775dc1",
   "metadata": {},
   "outputs": [],
   "source": [
    "df[\"num_words\"] = df[\"title_description_features\"].str.split().str.len()"
   ]
  },
  {
   "cell_type": "code",
   "execution_count": 11,
   "id": "71f62f41-fea4-4045-9e83-3f9b6d0ae6f1",
   "metadata": {},
   "outputs": [
    {
     "data": {
      "text/plain": [
       "1.0"
      ]
     },
     "execution_count": 11,
     "metadata": {},
     "output_type": "execute_result"
    }
   ],
   "source": [
    "df[df.num_words >= 5].shape[0] / df.shape[0]"
   ]
  },
  {
   "cell_type": "code",
   "execution_count": 9,
   "id": "fb1fb0fd-03b8-4677-bfcf-7bdaca15edfa",
   "metadata": {},
   "outputs": [],
   "source": [
    "df = df.loc[df.num_words >= 5].reset_index(drop=True)"
   ]
  },
  {
   "cell_type": "code",
   "execution_count": 12,
   "id": "9578f4b7-7d4c-4708-b68f-15cd176715ce",
   "metadata": {},
   "outputs": [
    {
     "data": {
      "text/plain": [
       "0                                                                                                                 howard lc leather conditioner ounce pack\n",
       "1                                      yes tomato detoxifying charcoal cleanser pack charcoal powder tomato fruit extract gingko biloba leaf extract fl oz\n",
       "2                                                                                                                  eye patch black adult tie band per pack\n",
       "3              tattoo eyebrow sticker waterproof eyebrow imitation eyebrow tattoo hairlike authentic eyebrow waterproof long lasting woman man makeup tool\n",
       "4    precision plunger bar cartridge grip mm bag plunger precision plunger bar designed work seamlessly precision disposable contoured soft cartridge g...\n",
       "Name: product_title_description_feature_pre_processed, dtype: object"
      ]
     },
     "execution_count": 12,
     "metadata": {},
     "output_type": "execute_result"
    }
   ],
   "source": [
    "df.product_title_description_feature_pre_processed.head()"
   ]
  },
  {
   "cell_type": "markdown",
   "id": "50b0091d-bea4-4ccc-bd61-895d3a1d4c7b",
   "metadata": {},
   "source": [
    "# 1. Index Based\n",
    "\n",
    "* which words are in each document"
   ]
  },
  {
   "cell_type": "code",
   "execution_count": 13,
   "id": "342882f2-5760-4157-b3af-f472dcfc5e29",
   "metadata": {},
   "outputs": [],
   "source": [
    "def build_inverted_index(df, column):\n",
    "    inverted_index = defaultdict(set)\n",
    "    for idx, text in df[column].items():\n",
    "        tokens = text.split()\n",
    "        for token in tokens:\n",
    "            inverted_index[token].add(idx)\n",
    "    return {k: list(v) for k, v in inverted_index.items()}"
   ]
  },
  {
   "cell_type": "code",
   "execution_count": 14,
   "id": "0bb9cf53-6bc1-46d4-9e51-7053ee0d8eb2",
   "metadata": {},
   "outputs": [],
   "source": [
    "inverted_index = build_inverted_index(\n",
    "    df, \"product_title_description_feature_pre_processed\"\n",
    ")"
   ]
  },
  {
   "cell_type": "code",
   "execution_count": 15,
   "id": "7a6ebb96-019c-40fe-b131-0c303086f9d9",
   "metadata": {
    "collapsed": true,
    "jupyter": {
     "outputs_hidden": true
    }
   },
   "outputs": [
    {
     "name": "stdout",
     "output_type": "stream",
     "text": [
      "aa: [52225, 27652, 77320, 79379, 23580, 96798, 31775, 88095, 47654, 82475, 23598, 27697, 45617, 58961, 72786, 13396, 18516, 51797, 48735, 45667, 77932, 53869, 68208, 46707, 27766, 51830, 99960, 70266, 4219, 89722, 85117, 11906, 21123, 30339, 51330, 109706, 108178, 108182, 23707, 47771, 95395, 94887, 56488, 44201, 9386, 104108, 53433, 75454, 78527, 88772, 56517, 13511, 22215, 51408, 6866, 78040, 79069, 76002, 101608, 105206, 97017, 61184, 38149, 75017, 18700, 53012, 47898, 98586, 85281, 39202, 51495, 92458, 10028, 1326, 53551, 6964, 57142, 107322, 16198, 68935, 47434, 39758, 44879, 96592, 64850, 83796, 11608, 67931, 55144, 67457, 2951, 5004, 38796, 77712, 26002, 72097, 41896, 81851, 13757, 19393, 25031, 465, 27091, 64472, 17886, 33766, 41960, 110568, 68077, 103406, 89072, 92658, 74227, 2550]\n",
      "aaa: [27652, 15367, 98314, 26636, 54287, 38416, 44562, 27174, 69671, 31785, 49714, 51775, 104009, 19018, 46156, 93264, 8282, 97373, 19042, 43621, 102014, 19584, 10393, 96413, 63655, 689, 33462, 105655, 101048, 2234, 64191, 79049, 76002, 94948, 91878, 36592, 15603, 47859, 92410, 16636, 109829, 53513, 30998, 96534, 17190, 47914, 86839, 52026, 37697, 67908, 33102, 41807, 39259, 21862, 104298, 82287, 106351, 81788, 26498, 2951, 59276, 109462, 14743, 44953, 35226, 110495, 85409, 37298, 56245, 65461, 22474, 20444, 12255, 73195, 28143, 63472, 9718, 66041]\n",
      "aaaaa: [41346, 73086, 32389, 26025, 105836, 93136, 63537, 13749, 106455, 70937, 72318]\n",
      "aaaaaa: [9177]\n",
      "aaaah: [30065]\n",
      "aaargh: [1092]\n",
      "aabba: [78524]\n",
      "aabbye: [95580]\n",
      "aabellay: [13850]\n",
      "aabout: [61656, 40154, 98810]\n",
      "aaccording: [28149]\n",
      "aade: [8971]\n",
      "aadesso: [106211, 61716]\n",
      "aadir: [27818]\n",
      "aafiya: [46214]\n",
      "aah: [105002]\n",
      "aai: [78459, 103127]\n",
      "aaiffey: [48512, 39956, 81302, 93206, 100763, 49724, 75068, 7292, 4700, 46303, 35808, 74464, 98659, 8679, 4970, 108148, 60792, 4473, 36988, 31358]\n",
      "aalimarie: [98560, 50315]\n",
      "aaliya: [67453]\n",
      "aaliyah: [20580, 65622]\n",
      "aall: [80498, 677]\n",
      "aalthough: [77388]\n",
      "aalto: [32453]\n",
      "aamzic: [76090, 33582]\n",
      "aanbrengen: [64724]\n",
      "aand: [54691]\n",
      "aanmaak: [64724]\n",
      "aany: [103162]\n",
      "aappearence: [78645]\n",
      "aapplicable: [86791]\n",
      "aapplicationshair: [77828]\n",
      "aarainbow: [14539]\n",
      "aaron: [62449]\n",
      "aaronano: [68601, 77866]\n",
      "aasize: [14235]\n",
      "aassorted: [67647]\n",
      "aavrani: [59969]\n",
      "ab: [5, 43021, 83982, 104462, 8208, 20496, 88091, 108598, 51270, 53318, 22604, 36942, 22610, 34904, 106585, 110682, 61531, 10333, 2146, 106594, 100454, 41067, 55408, 12405, 4214, 26741, 28793, 104569, 6267, 73855, 12418, 12428, 82070, 69787, 18606, 63665, 59572, 73909, 53433, 80065, 82127, 4307, 2270, 53470, 98526, 41185, 76002, 43235, 47336, 12523, 78068, 39168, 53517, 59670, 96550, 65832, 108840, 88364, 22834, 78136, 16702, 74046, 22850, 49474, 106819, 6472, 63817, 20813, 33102, 2383, 39245, 2390, 39259, 82273, 98658, 41325, 102767, 82305, 6530, 6531, 82316, 8591, 57748, 16813, 57777, 39347, 68022, 51643, 16832, 94658, 63939, 12741, 6598, 84421, 59848, 102863, 102868, 88534, 78304, 84451, 72172, 35320, 2555, 39423, 31234, 68098, 107010, 94725, 107014, 33290, 102925, 107023, 14894, 12847, 31286, 72256, 100929, 92743, 6735, 35409, 102994, 64083, 19034, 4714, 45677, 68208, 47733, 49786, 88701, 4734, 35458, 23181, 68238, 4752, 55952, 96920, 23194, 62108, 21149, 47779, 103089, 101048, 45755, 39613, 64196, 10949, 92879, 43740, 39645, 78559, 49899, 43773, 11011, 92935, 45839, 64285, 76574, 60201, 47914, 60202, 84781, 109363, 101174, 107322, 86846, 23371, 84819, 21333, 93025, 13154, 52067, 99169, 84841, 37741, 41839, 97135, 25457, 45957, 72581, 13205, 27548, 103324, 95136, 41892, 91044, 41894, 50086, 84911, 15292, 103358, 27586, 17382, 44007, 62438, 72692, 56313, 93178, 95225, 109570, 25609, 89100, 54287, 9236, 85015, 95255, 54304, 31785, 44078, 5172, 3132, 23625, 50256, 56401, 85078, 72794, 107611, 103525, 95334, 46199, 95354, 105595, 70802, 78999, 64664, 64666, 9371, 91290, 35998, 15521, 72875, 5301, 31929, 93382, 79049, 23762, 64731, 87260, 58596, 44270, 91374, 46320, 97522, 42235, 58620, 40192, 54528, 38149, 97544, 97563, 105756, 34077, 9506, 85282, 83237, 107814, 99632, 89393, 38199, 50487, 54590, 44351, 109896, 70986, 50509, 66907, 15714, 68969, 15722, 77173, 105845, 5496, 34171, 93563, 62845, 99717, 48518, 91530, 36238, 15765, 77211, 56732, 50590, 77215, 40358, 40371, 56763, 107977, 17866, 42453, 52702, 75233, 11755, 15855, 28143, 103926, 13815, 26118, 50696, 28169, 110091, 44562, 7699, 48666, 71194, 46634, 26159, 89651, 28228, 97860, 58950, 9799, 24147, 32342, 34390, 44639, 93807, 9844, 54907, 3713, 7816, 56980, 106133, 44695, 36508, 42666, 63146, 59057, 89789, 46783, 77507, 38597, 22218, 61133, 81621, 44758, 69338, 108271, 46834, 81652, 83717, 75536, 98069, 53014, 71446, 69407, 77599, 100141, 26418, 53044, 85821, 28489, 75595, 8016, 30548, 83796, 102241, 20323, 77689, 75646, 6016, 51072, 26498, 38787, 40834, 106372, 8070, 24455, 22412, 46993, 83857, 100250, 26525, 49054, 63390, 63392, 24481, 8110, 49076, 47034, 85960, 81865, 106441, 98254, 28633, 106459, 4062, 16350, 16352, 24557, 18416, 63472, 94192, 22517, 94198, 69629, 83966, 4095]\n",
      "aba: [81053, 61311]\n",
      "aback: [102193]\n",
      "abalance: [70400]\n",
      "abalone: [52135]\n",
      "abandon: [74802, 101123]\n",
      "abandoned: [7023]\n",
      "abandonfragrance: [104577]\n",
      "abassky: [106174]\n",
      "abatron: [92817]\n",
      "abba: [15416, 105942]\n",
      "abbey: [28840, 92777, 86754, 91276]\n"
     ]
    }
   ],
   "source": [
    "for key in sorted(inverted_index)[:50]:\n",
    "    print(f\"{key}: {inverted_index[key]}\")"
   ]
  },
  {
   "cell_type": "code",
   "execution_count": 16,
   "id": "51f58149-0e27-48c6-9865-ee820c01a4a4",
   "metadata": {},
   "outputs": [],
   "source": [
    "def search(query, inverted_index, df):\n",
    "    query = pre_process_query(query)\n",
    "    query_tokens = query.split()\n",
    "    matching_docs = set()\n",
    "    for token in query_tokens:\n",
    "        if token in inverted_index:\n",
    "            matching_docs.update(inverted_index[token])\n",
    "    return df.loc[list(matching_docs)]"
   ]
  },
  {
   "cell_type": "code",
   "execution_count": 19,
   "id": "b1edc4d6-824f-47d3-99c8-2c4d6a113a22",
   "metadata": {},
   "outputs": [],
   "source": [
    "query = \"cerave spf\""
   ]
  },
  {
   "cell_type": "code",
   "execution_count": 20,
   "id": "01daa783-6032-4bbd-a7dc-1252b1adf5d3",
   "metadata": {},
   "outputs": [
    {
     "data": {
      "text/plain": [
       "88064                                                     Christian Dior Makeup Diorskin Sculpt Line Smoothing Lifting Makeup Spf20 # 030 Medium Beige 30Ml/1Oz\n",
       "79876                                                                SoftLips Pearl Tint Lip Protectant SPF 15! Lip Balm Moisturizer and Conditioner! (24 Pack)\n",
       "10245                                                                                          Amorepacific - IOPE Whitegen Skin Luminous Special Kit (4 Items)\n",
       "92164                                                                                                                           MAC Studio Fix Fluid SPF15 NC47\n",
       "110598                                                                                                      MAC Studio Stick Foundation SPF 15 - NW47 9g/0.31oz\n",
       "                                                                                  ...                                                                          \n",
       "45041     Nakeup Face Waterking Cover Cushion No.23 Cover Beige (SPF35 / PA++, for Dry Skin, Whitening, Wrinkle Improvement, Sun Protection, Flawless and Ra...\n",
       "18418                                                                                                       DO Naturals SPF 50 Sunscreen, 3 oz (Fragrance Free)\n",
       "40950                         Hawaiian Tropic Sheer Touch Hydration Moisturizing Broad Spectrum Sun Care Sunscreen Clear Spray - SPF 30, 6 Ounce (Package of 2)\n",
       "43000                                            Lip Protector Balm Chapstick Grip SPF15 with Holder Sun Screen Wind Protection Aloe Moisturizer , BLACK Holder\n",
       "24569                                                       KLENSKIN Body Wash with SPF 30 Sunscreen, Water Resistant Sun Protection for Scalp, Face, Body, 8oz\n",
       "Name: title, Length: 938, dtype: object"
      ]
     },
     "execution_count": 20,
     "metadata": {},
     "output_type": "execute_result"
    }
   ],
   "source": [
    "res = search(query, inverted_index, df)\n",
    "res.title"
   ]
  },
  {
   "cell_type": "markdown",
   "id": "483526d4-f62e-46a1-9c15-ab8a69d935ff",
   "metadata": {},
   "source": [
    "# 2. Tf-IDF\n",
    "\n",
    "* statistical measure that evaluates how important a term is to a document in relation to the entire dataset.\n",
    "    * TF (Term Frequency): How often the term appears in a document.\n",
    "    * IDF (Inverse Document Frequency): How rare the term is across all documents.\n",
    "* Results seem much better"
   ]
  },
  {
   "cell_type": "code",
   "execution_count": 25,
   "id": "1c706977-5de3-4a4e-96f9-64573c9257a7",
   "metadata": {},
   "outputs": [],
   "source": [
    "def query_tfidf(query, vectorizer, df):\n",
    "    # query vector\n",
    "    query_vector = vectorizer.transform([query])\n",
    "    similarity_scores = cosine_similarity(query_vector, tfidf_matrix)\n",
    "    df[\"similarity_score\"] = similarity_scores[0]\n",
    "    res = df.copy(deep=True).sort_values(by=\"similarity_score\", ascending=False)\n",
    "    return res"
   ]
  },
  {
   "cell_type": "code",
   "execution_count": 26,
   "id": "3c346b4a-c011-4fc8-9a1a-f152ed98c5e1",
   "metadata": {},
   "outputs": [],
   "source": [
    "vectorizer = TfidfVectorizer()\n",
    "tfidf_matrix = vectorizer.fit_transform(\n",
    "    df[\"product_title_description_feature_pre_processed\"]\n",
    ")"
   ]
  },
  {
   "cell_type": "code",
   "execution_count": 29,
   "id": "1c3d2bfa-b458-48a3-bbc8-8b644e344ef8",
   "metadata": {},
   "outputs": [],
   "source": [
    "query = \"cerave moisturizer spf\"\n",
    "sorted_df = query_tfidf(query, vectorizer, df)"
   ]
  },
  {
   "cell_type": "code",
   "execution_count": 30,
   "id": "02664d79-e9eb-4dc7-9756-7d202d681702",
   "metadata": {},
   "outputs": [
    {
     "data": {
      "text/html": [
       "<div>\n",
       "<style scoped>\n",
       "    .dataframe tbody tr th:only-of-type {\n",
       "        vertical-align: middle;\n",
       "    }\n",
       "\n",
       "    .dataframe tbody tr th {\n",
       "        vertical-align: top;\n",
       "    }\n",
       "\n",
       "    .dataframe thead th {\n",
       "        text-align: right;\n",
       "    }\n",
       "</style>\n",
       "<table border=\"1\" class=\"dataframe\">\n",
       "  <thead>\n",
       "    <tr style=\"text-align: right;\">\n",
       "      <th></th>\n",
       "      <th>title</th>\n",
       "      <th>similarity_score</th>\n",
       "    </tr>\n",
       "  </thead>\n",
       "  <tbody>\n",
       "    <tr>\n",
       "      <th>31957</th>\n",
       "      <td>Cerave Sunscreen Bundle SPF 50 | Contains Mineral Sunscreen for Face SPF 50, 2.5 Ounce, and Mineral Body Sunscreen SPF 50, 5 Ounce 1 ea</td>\n",
       "      <td>0.481708</td>\n",
       "    </tr>\n",
       "    <tr>\n",
       "      <th>80371</th>\n",
       "      <td>Revitalizing Light-Weight Moisturizer SPF 15</td>\n",
       "      <td>0.399087</td>\n",
       "    </tr>\n",
       "    <tr>\n",
       "      <th>83064</th>\n",
       "      <td>Cerave Moisturizing Cream With Pump For Normal To Dry Skin Value Pack of 2 x 19 Oz (Total 38 Oz)\"</td>\n",
       "      <td>0.383651</td>\n",
       "    </tr>\n",
       "    <tr>\n",
       "      <th>14825</th>\n",
       "      <td>Collagen Firming Face Cream Moisturizer SPF-20 50ml</td>\n",
       "      <td>0.351494</td>\n",
       "    </tr>\n",
       "    <tr>\n",
       "      <th>93345</th>\n",
       "      <td>Simple Moisturizer SPF15, Protecting Light 4.2 Ounce, pack of 3</td>\n",
       "      <td>0.345158</td>\n",
       "    </tr>\n",
       "  </tbody>\n",
       "</table>\n",
       "</div>"
      ],
      "text/plain": [
       "                                                                                                                                         title  \\\n",
       "31957  Cerave Sunscreen Bundle SPF 50 | Contains Mineral Sunscreen for Face SPF 50, 2.5 Ounce, and Mineral Body Sunscreen SPF 50, 5 Ounce 1 ea   \n",
       "80371                                                                                             Revitalizing Light-Weight Moisturizer SPF 15   \n",
       "83064                                        Cerave Moisturizing Cream With Pump For Normal To Dry Skin Value Pack of 2 x 19 Oz (Total 38 Oz)\"   \n",
       "14825                                                                                      Collagen Firming Face Cream Moisturizer SPF-20 50ml   \n",
       "93345                                                                          Simple Moisturizer SPF15, Protecting Light 4.2 Ounce, pack of 3   \n",
       "\n",
       "       similarity_score  \n",
       "31957          0.481708  \n",
       "80371          0.399087  \n",
       "83064          0.383651  \n",
       "14825          0.351494  \n",
       "93345          0.345158  "
      ]
     },
     "execution_count": 30,
     "metadata": {},
     "output_type": "execute_result"
    }
   ],
   "source": [
    "sorted_df[[\"title\", \"similarity_score\"]].head()"
   ]
  },
  {
   "cell_type": "markdown",
   "id": "973e9c81-7c52-4eea-8690-799889714b5b",
   "metadata": {},
   "source": [
    "# 3. Sentence Transformers"
   ]
  },
  {
   "cell_type": "code",
   "execution_count": 31,
   "id": "be61df4c-ca47-4284-a249-86fddd5fe818",
   "metadata": {},
   "outputs": [
    {
     "name": "stderr",
     "output_type": "stream",
     "text": [
      "2025-01-17 15:45:59.406853: I tensorflow/core/util/port.cc:153] oneDNN custom operations are on. You may see slightly different numerical results due to floating-point round-off errors from different computation orders. To turn them off, set the environment variable `TF_ENABLE_ONEDNN_OPTS=0`.\n",
      "2025-01-17 15:45:59.558990: E external/local_xla/xla/stream_executor/cuda/cuda_fft.cc:477] Unable to register cuFFT factory: Attempting to register factory for plugin cuFFT when one has already been registered\n",
      "WARNING: All log messages before absl::InitializeLog() is called are written to STDERR\n",
      "E0000 00:00:1737128759.622956   13560 cuda_dnn.cc:8310] Unable to register cuDNN factory: Attempting to register factory for plugin cuDNN when one has already been registered\n",
      "E0000 00:00:1737128759.644493   13560 cuda_blas.cc:1418] Unable to register cuBLAS factory: Attempting to register factory for plugin cuBLAS when one has already been registered\n",
      "2025-01-17 15:45:59.791409: I tensorflow/core/platform/cpu_feature_guard.cc:210] This TensorFlow binary is optimized to use available CPU instructions in performance-critical operations.\n",
      "To enable the following instructions: AVX2 AVX512F AVX512_VNNI FMA, in other operations, rebuild TensorFlow with the appropriate compiler flags.\n"
     ]
    }
   ],
   "source": [
    "from sentence_transformers import SentenceTransformer"
   ]
  },
  {
   "cell_type": "code",
   "execution_count": 32,
   "id": "e9165e17-235a-45de-937c-65769ce3af9b",
   "metadata": {},
   "outputs": [],
   "source": [
    "model = SentenceTransformer(\"all-MiniLM-L6-v2\")"
   ]
  },
  {
   "cell_type": "code",
   "execution_count": 33,
   "id": "19efcf51-e700-42b4-9ad7-13e1fb0d5e11",
   "metadata": {},
   "outputs": [
    {
     "data": {
      "application/vnd.jupyter.widget-view+json": {
       "model_id": "78397654f54b47f5bfe5107b1d9a1039",
       "version_major": 2,
       "version_minor": 0
      },
      "text/plain": [
       "Batches:   0%|          | 0/1734 [00:00<?, ?it/s]"
      ]
     },
     "metadata": {},
     "output_type": "display_data"
    }
   ],
   "source": [
    "embeddings = model.encode(\n",
    "    df[\"product_title_description_feature_pre_processed\"].tolist(),\n",
    "    batch_size=64,\n",
    "    show_progress_bar=True,\n",
    ")"
   ]
  },
  {
   "cell_type": "code",
   "execution_count": 37,
   "id": "8c32593c-f54d-422c-8eee-1a5fd11dfdef",
   "metadata": {},
   "outputs": [],
   "source": [
    "np.save(\"search/product_embeddings.npy\", embeddings)"
   ]
  },
  {
   "cell_type": "code",
   "execution_count": 38,
   "id": "a52845b0-add9-418b-8fbb-e92edee4cc59",
   "metadata": {},
   "outputs": [],
   "source": [
    "def query_sentence_transformer(query, model, df):\n",
    "    query_embedding = model.encode(query)\n",
    "\n",
    "    similarity_scores = cosine_similarity([query_embedding], embeddings)[0]\n",
    "\n",
    "    # Add similarity scores to DataFrame\n",
    "    df[\"similarity_score_sentence_transformers\"] = similarity_scores\n",
    "    return df"
   ]
  },
  {
   "cell_type": "code",
   "execution_count": 39,
   "id": "ae38997e-95db-4645-9f99-763a37c15ed9",
   "metadata": {},
   "outputs": [],
   "source": [
    "query = \"cerave moisturizer spf\"\n",
    "res = query_sentence_transformer(query, model, df)"
   ]
  },
  {
   "cell_type": "code",
   "execution_count": 42,
   "id": "9f8037d2-4eca-42fb-aff5-422437cc423e",
   "metadata": {},
   "outputs": [
    {
     "data": {
      "text/html": [
       "<div>\n",
       "<style scoped>\n",
       "    .dataframe tbody tr th:only-of-type {\n",
       "        vertical-align: middle;\n",
       "    }\n",
       "\n",
       "    .dataframe tbody tr th {\n",
       "        vertical-align: top;\n",
       "    }\n",
       "\n",
       "    .dataframe thead th {\n",
       "        text-align: right;\n",
       "    }\n",
       "</style>\n",
       "<table border=\"1\" class=\"dataframe\">\n",
       "  <thead>\n",
       "    <tr style=\"text-align: right;\">\n",
       "      <th></th>\n",
       "      <th>title</th>\n",
       "      <th>similarity_score_sentence_transformers</th>\n",
       "    </tr>\n",
       "  </thead>\n",
       "  <tbody>\n",
       "    <tr>\n",
       "      <th>80371</th>\n",
       "      <td>Revitalizing Light-Weight Moisturizer SPF 15</td>\n",
       "      <td>0.746062</td>\n",
       "    </tr>\n",
       "    <tr>\n",
       "      <th>28803</th>\n",
       "      <td>Face Cream Moisturizer Olive Oil &amp; Honey for Women SPF-20 50ml</td>\n",
       "      <td>0.713684</td>\n",
       "    </tr>\n",
       "    <tr>\n",
       "      <th>62664</th>\n",
       "      <td>C'est Moi Tinted Moisturizing Lotion SPF 30 | Gentle, Hydrating Formula Provides Broad Spectrum SPF Protection with Sheer, Buildable Coverage, Fra...</td>\n",
       "      <td>0.712769</td>\n",
       "    </tr>\n",
       "    <tr>\n",
       "      <th>95664</th>\n",
       "      <td>C'est Moi Tinted Moisturizing Lotion SPF 30 | Gentle, Hydrating Formula Provides Broad Spectrum SPF Protection with Sheer, Buildable Coverage, Fra...</td>\n",
       "      <td>0.709647</td>\n",
       "    </tr>\n",
       "    <tr>\n",
       "      <th>38057</th>\n",
       "      <td>C'est Moi Tinted Moisturizing Lotion SPF 30 | Gentle, Hydrating Formula Provides Broad Spectrum SPF Protection with Sheer, Buildable Coverage, Fra...</td>\n",
       "      <td>0.709056</td>\n",
       "    </tr>\n",
       "    <tr>\n",
       "      <th>4509</th>\n",
       "      <td>C'est Moi Tinted Moisturizing Lotion SPF 30 | Gentle, Hydrating Formula Provides Broad Spectrum SPF Protection with Sheer, Buildable Coverage, Fra...</td>\n",
       "      <td>0.704436</td>\n",
       "    </tr>\n",
       "    <tr>\n",
       "      <th>31074</th>\n",
       "      <td>Moisturizing Sunscreen Lotion, SPF 30</td>\n",
       "      <td>0.700573</td>\n",
       "    </tr>\n",
       "    <tr>\n",
       "      <th>31957</th>\n",
       "      <td>Cerave Sunscreen Bundle SPF 50 | Contains Mineral Sunscreen for Face SPF 50, 2.5 Ounce, and Mineral Body Sunscreen SPF 50, 5 Ounce 1 ea</td>\n",
       "      <td>0.697636</td>\n",
       "    </tr>\n",
       "    <tr>\n",
       "      <th>88825</th>\n",
       "      <td>e.l.f. Beauty Shield SPF 50 Skin Shielding Moisturizer, 1.69 fl oz</td>\n",
       "      <td>0.694835</td>\n",
       "    </tr>\n",
       "    <tr>\n",
       "      <th>109741</th>\n",
       "      <td>DeVita Solar Body Moisturizer SPF 30+</td>\n",
       "      <td>0.687732</td>\n",
       "    </tr>\n",
       "  </tbody>\n",
       "</table>\n",
       "</div>"
      ],
      "text/plain": [
       "                                                                                                                                                        title  \\\n",
       "80371                                                                                                            Revitalizing Light-Weight Moisturizer SPF 15   \n",
       "28803                                                                                          Face Cream Moisturizer Olive Oil & Honey for Women SPF-20 50ml   \n",
       "62664   C'est Moi Tinted Moisturizing Lotion SPF 30 | Gentle, Hydrating Formula Provides Broad Spectrum SPF Protection with Sheer, Buildable Coverage, Fra...   \n",
       "95664   C'est Moi Tinted Moisturizing Lotion SPF 30 | Gentle, Hydrating Formula Provides Broad Spectrum SPF Protection with Sheer, Buildable Coverage, Fra...   \n",
       "38057   C'est Moi Tinted Moisturizing Lotion SPF 30 | Gentle, Hydrating Formula Provides Broad Spectrum SPF Protection with Sheer, Buildable Coverage, Fra...   \n",
       "4509    C'est Moi Tinted Moisturizing Lotion SPF 30 | Gentle, Hydrating Formula Provides Broad Spectrum SPF Protection with Sheer, Buildable Coverage, Fra...   \n",
       "31074                                                                                                                   Moisturizing Sunscreen Lotion, SPF 30   \n",
       "31957                 Cerave Sunscreen Bundle SPF 50 | Contains Mineral Sunscreen for Face SPF 50, 2.5 Ounce, and Mineral Body Sunscreen SPF 50, 5 Ounce 1 ea   \n",
       "88825                                                                                      e.l.f. Beauty Shield SPF 50 Skin Shielding Moisturizer, 1.69 fl oz   \n",
       "109741                                                                                                                  DeVita Solar Body Moisturizer SPF 30+   \n",
       "\n",
       "        similarity_score_sentence_transformers  \n",
       "80371                                 0.746062  \n",
       "28803                                 0.713684  \n",
       "62664                                 0.712769  \n",
       "95664                                 0.709647  \n",
       "38057                                 0.709056  \n",
       "4509                                  0.704436  \n",
       "31074                                 0.700573  \n",
       "31957                                 0.697636  \n",
       "88825                                 0.694835  \n",
       "109741                                0.687732  "
      ]
     },
     "execution_count": 42,
     "metadata": {},
     "output_type": "execute_result"
    }
   ],
   "source": [
    "res.sort_values(by=\"similarity_score_sentence_transformers\", ascending=False)[\n",
    "    [\"title\", \"similarity_score_sentence_transformers\"]\n",
    "].head(10)"
   ]
  },
  {
   "cell_type": "code",
   "execution_count": null,
   "id": "55bfd776-b3d8-455f-96d4-735a9ea42c0f",
   "metadata": {},
   "outputs": [],
   "source": []
  }
 ],
 "metadata": {
  "kernelspec": {
   "display_name": "Python 3 (ipykernel)",
   "language": "python",
   "name": "python3"
  },
  "language_info": {
   "codemirror_mode": {
    "name": "ipython",
    "version": 3
   },
   "file_extension": ".py",
   "mimetype": "text/x-python",
   "name": "python",
   "nbconvert_exporter": "python",
   "pygments_lexer": "ipython3",
   "version": "3.12.3"
  }
 },
 "nbformat": 4,
 "nbformat_minor": 5
}

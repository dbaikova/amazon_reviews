{
 "cells": [
  {
   "cell_type": "markdown",
   "id": "8089035b-ec1a-4a91-a882-4e0bdc5af9f6",
   "metadata": {},
   "source": [
    "# Collaborative Filltering \n",
    "\n",
    "* Goal: implement a user-based collaborative filtering recommendation system.\n",
    "* Calculate user-user similarity using cosine siilarity on a user-item matrix\n",
    "* Rank items by their predicted scores and return the top-N recommendations for the user.\n",
    "\n",
    "\n",
    "Results:\n",
    "* Results are really bad, probably due to high matrix sparsity\n",
    "* Users and items have few interactions\n",
    "* With so few non-zeros finding similarites becomes challenging"
   ]
  },
  {
   "cell_type": "code",
   "execution_count": 95,
   "id": "eaab5a7f-6c80-45d4-b877-000192ff6717",
   "metadata": {},
   "outputs": [],
   "source": [
    "from collections import defaultdict\n",
    "\n",
    "import numpy as np\n",
    "import pandas as pd\n",
    "from datasets import load_dataset\n",
    "from sklearn.metrics.pairwise import cosine_similarity\n",
    "from sklearn.model_selection import train_test_split\n",
    "from tqdm import tqdm\n",
    "\n",
    "from train_test_split import temporal_split_users_in_both_sets\n",
    "\n",
    "pd.set_option('display.max_rows', 500)\n",
    "pd.set_option('display.max_columns', 500)\n",
    "pd.set_option('display.max_colwidth', None)"
   ]
  },
  {
   "cell_type": "markdown",
   "id": "2af4c736-474e-4dc7-9b9f-3ca8410166de",
   "metadata": {},
   "source": [
    "# Load Data"
   ]
  },
  {
   "cell_type": "code",
   "execution_count": 81,
   "id": "89207b8f-aaea-48b1-bb21-ef2d2964bbb7",
   "metadata": {},
   "outputs": [],
   "source": [
    "dataset_reviews = load_dataset(\"McAuley-Lab/Amazon-Reviews-2023\", \"raw_review_All_Beauty\", trust_remote_code=True)\n",
    "df_reviews = dataset_reviews[\"full\"].to_pandas()\n",
    "\n",
    "dataset_items = load_dataset(\"McAuley-Lab/Amazon-Reviews-2023\", \"raw_meta_All_Beauty\", split=\"full\", trust_remote_code=True)\n",
    "df_items = dataset_items.to_pandas()\n"
   ]
  },
  {
   "cell_type": "code",
   "execution_count": 82,
   "id": "b74629d2-8d69-4ff3-95fc-619321ff4016",
   "metadata": {},
   "outputs": [],
   "source": [
    "reviews_per_user = df_reviews.groupby('user_id').size()\n",
    "df_reviews['num_reviews_per_user'] = df_reviews['user_id'].map(reviews_per_user)\n",
    "df_reviews = df_reviews.loc[df_reviews.num_reviews_per_user >= 5].reset_index(drop=True)"
   ]
  },
  {
   "cell_type": "code",
   "execution_count": 96,
   "id": "a0709e2a-4cef-4727-864b-4aba2a1f48a5",
   "metadata": {},
   "outputs": [
    {
     "data": {
      "text/plain": [
       "Index(['rating', 'title', 'text', 'images', 'asin', 'parent_asin', 'user_id',\n",
       "       'timestamp', 'helpful_vote', 'verified_purchase',\n",
       "       'num_reviews_per_user'],\n",
       "      dtype='object')"
      ]
     },
     "execution_count": 96,
     "metadata": {},
     "output_type": "execute_result"
    }
   ],
   "source": [
    "df_reviews.columns"
   ]
  },
  {
   "cell_type": "code",
   "execution_count": 98,
   "id": "fc813bbc-085f-416f-9547-bd3a265f1878",
   "metadata": {},
   "outputs": [],
   "source": [
    "train_df, test_df = temporal_split_users_in_both_sets(df_reviews, split_ratio=0.9)\n"
   ]
  },
  {
   "cell_type": "code",
   "execution_count": 99,
   "id": "5f17cba8-27fe-4628-a087-524ffda620ef",
   "metadata": {},
   "outputs": [
    {
     "data": {
      "text/plain": [
       "(1620,)"
      ]
     },
     "execution_count": 99,
     "metadata": {},
     "output_type": "execute_result"
    }
   ],
   "source": [
    "train_df.user_id.unique().shape"
   ]
  },
  {
   "cell_type": "code",
   "execution_count": 100,
   "id": "a7b26d77-846f-40f8-be2f-8d455d5fd000",
   "metadata": {},
   "outputs": [
    {
     "data": {
      "text/plain": [
       "(1620,)"
      ]
     },
     "execution_count": 100,
     "metadata": {},
     "output_type": "execute_result"
    }
   ],
   "source": [
    "test_df.user_id.unique().shape"
   ]
  },
  {
   "cell_type": "code",
   "execution_count": 102,
   "id": "b2a2cd6f-36df-4893-82f0-140e7c29c975",
   "metadata": {},
   "outputs": [
    {
     "data": {
      "text/plain": [
       "(112590,)"
      ]
     },
     "execution_count": 102,
     "metadata": {},
     "output_type": "execute_result"
    }
   ],
   "source": [
    "df_items.parent_asin.unique().shape"
   ]
  },
  {
   "cell_type": "markdown",
   "id": "ebeb5600-d3aa-4bc8-8d57-15fa53d6f8df",
   "metadata": {},
   "source": [
    "# Create User-Item Matrix"
   ]
  },
  {
   "cell_type": "code",
   "execution_count": 111,
   "id": "8487a925-b4bd-49d1-b1bd-17f343ba8549",
   "metadata": {},
   "outputs": [],
   "source": [
    "# user and item id mappings\n",
    "user_id_mapping = {user_id: idx for idx, user_id in enumerate(df_reviews['user_id'].unique())}\n",
    "item_id_mapping = {item_id: idx for idx, item_id in enumerate(df_reviews['parent_asin'].unique())}\n",
    "reverse_item_id_mapping = {idx: item_id for item_id, idx in item_id_mapping.items()}"
   ]
  },
  {
   "cell_type": "code",
   "execution_count": 112,
   "id": "c902f858-fcfa-4fdb-a152-a823e9a6101e",
   "metadata": {},
   "outputs": [],
   "source": [
    "train_user_item_matrix = train_df.pivot_table(\n",
    "    index='user_id', columns='parent_asin', values='rating', fill_value=0\n",
    ").values\n",
    "\n",
    "test_user_item_matrix = test_df.pivot_table(\n",
    "    index='user_id', columns='parent_asin', values='rating', fill_value=0\n",
    ").values\n"
   ]
  },
  {
   "cell_type": "code",
   "execution_count": 113,
   "id": "ed642ed4-ce38-46e1-8171-c97dd8253e41",
   "metadata": {},
   "outputs": [
    {
     "data": {
      "text/plain": [
       "(1620, 6177)"
      ]
     },
     "execution_count": 113,
     "metadata": {},
     "output_type": "execute_result"
    }
   ],
   "source": [
    "train_user_item_matrix.shape"
   ]
  },
  {
   "cell_type": "code",
   "execution_count": 114,
   "id": "007acfe4-844a-4184-a0b9-2ccf1200b39c",
   "metadata": {},
   "outputs": [
    {
     "data": {
      "text/plain": [
       "(1620, 1688)"
      ]
     },
     "execution_count": 114,
     "metadata": {},
     "output_type": "execute_result"
    }
   ],
   "source": [
    "test_user_item_matrix.shape"
   ]
  },
  {
   "cell_type": "markdown",
   "id": "aee9a4f1-6689-487e-ba11-098d38c62f0b",
   "metadata": {},
   "source": [
    "# Calculate User-User Similarity"
   ]
  },
  {
   "cell_type": "code",
   "execution_count": 106,
   "id": "f4852bcb-d10d-4d62-af26-316898ec54cd",
   "metadata": {},
   "outputs": [
    {
     "data": {
      "text/plain": [
       "(1620, 1620)"
      ]
     },
     "execution_count": 106,
     "metadata": {},
     "output_type": "execute_result"
    }
   ],
   "source": [
    "user_similarity = cosine_similarity(train_user_item_matrix)\n",
    "np.fill_diagonal(user_similarity, 0)\n",
    "user_similarity.shape"
   ]
  },
  {
   "cell_type": "markdown",
   "id": "cb97bbdf-4e84-4e53-883e-6ffca3cae15d",
   "metadata": {},
   "source": [
    "# Recommend Items \n",
    "\n",
    "For a target user $U_t$, predict their rating for an item $I_j$ they haven’t interacted with by:\n",
    "* Identifying all other users $U_k$ who have rated $I_j$\n",
    "* Weighting each user's rating by their similarity to $U_t$\n",
    "  \n",
    "$$\n",
    "\\text{Predicted\\_Score}(I_j) = \\frac{\\sum_k \\left| \\text{Similarity}(U_t, U_k) \\right|}{\\sum_k \\left( \\text{Similarity}(U_t, U_k) \\times \\text{Rating}(U_k, I_j) \\right)}\n",
    "$$\n",
    "\n",
    "Where:\n",
    "- $I_j$: Item $j$\n",
    "- $U_t$: Target user\n",
    "- $U_k$: Another user\n",
    "- $\\text{Similarity}(U_t, U_k)$: Similarity between users $U_t$ and $U_k$\n",
    "- $\\text{Rating}(U_k, I_j)$: Rating given by user $U_k$ to item $I_j$\n",
    "\n",
    "\n",
    "* Recommend the top items\n"
   ]
  },
  {
   "cell_type": "code",
   "execution_count": 120,
   "id": "96a79bee-e2ec-4548-9a3c-5dd459714129",
   "metadata": {},
   "outputs": [],
   "source": [
    "def recommend_items_user_based(user_index, user_item_matrix, user_similarity, top_n=5):\n",
    "    \"\"\"\n",
    "    Recommend top-N items for a given user based on user-user similarity.\n",
    "\n",
    "    Parameters:\n",
    "        user_index: Row index of the target user in the user-item matrix.\n",
    "        user_item_matrix: User-item interaction matrix.\n",
    "        user_similarity: User-user similarity matrix.\n",
    "        top_n: Number of recommendations to generate.\n",
    "\n",
    "    Returns:\n",
    "        List of tuples [(item_index, predicted_score), ...].\n",
    "    \"\"\"\n",
    "    # similarities for the target user\n",
    "    similarities = user_similarity[user_index]\n",
    "    weighted_ratings = similarities @ train_user_item_matrix\n",
    "    normalization_factor = np.abs(similarities).sum()\n",
    "    predicted_scores = weighted_ratings / (normalization_factor + 1e-8)\n",
    "\n",
    "    # exclude items already rated in the training set\n",
    "    interacted_items = train_user_item_matrix[user_index] > 0\n",
    "    predicted_scores[interacted_items] = -np.inf\n",
    "\n",
    "    # top-n items\n",
    "    top_indices = np.argsort(predicted_scores)[::-1][:top_n]\n",
    "    return top_indices, predicted_scores[top_indices]"
   ]
  },
  {
   "cell_type": "markdown",
   "id": "1da08ade-cd03-4b97-aa74-ea4dfb31eaf3",
   "metadata": {},
   "source": [
    "# Recommend for a few users\n",
    "\n",
    "Analyse a few recommendations and compare to items users purchased in the past"
   ]
  },
  {
   "cell_type": "code",
   "execution_count": 167,
   "id": "790512e3-d907-4a7f-9937-c179adffc97a",
   "metadata": {},
   "outputs": [],
   "source": [
    "user_id_to_recommend = 'AE3KLVXGZPANXE5XLXYKHTVAZ3FQ'\n",
    "\n",
    "user_index = user_id_mapping[user_id_to_recommend]\n",
    "\n",
    "item_indices, scores = recommend_items_user_based(\n",
    "    user_index=user_index,\n",
    "    user_item_matrix=train_user_item_matrix,\n",
    "    user_similarity=user_similarity,\n",
    "    top_n=5\n",
    ")\n",
    "\n",
    "recommendations = [(reverse_item_id_mapping[i], score) for i, score in zip(item_indices, scores )]"
   ]
  },
  {
   "cell_type": "code",
   "execution_count": 169,
   "id": "94ec0d6e-e62e-4d4f-a8bd-ee27c4d8ba46",
   "metadata": {},
   "outputs": [
    {
     "data": {
      "text/html": [
       "<div>\n",
       "<style scoped>\n",
       "    .dataframe tbody tr th:only-of-type {\n",
       "        vertical-align: middle;\n",
       "    }\n",
       "\n",
       "    .dataframe tbody tr th {\n",
       "        vertical-align: top;\n",
       "    }\n",
       "\n",
       "    .dataframe thead th {\n",
       "        text-align: right;\n",
       "    }\n",
       "</style>\n",
       "<table border=\"1\" class=\"dataframe\">\n",
       "  <thead>\n",
       "    <tr style=\"text-align: right;\">\n",
       "      <th></th>\n",
       "      <th>title</th>\n",
       "      <th>description</th>\n",
       "      <th>features</th>\n",
       "    </tr>\n",
       "  </thead>\n",
       "  <tbody>\n",
       "    <tr>\n",
       "      <th>1666</th>\n",
       "      <td>5-Pack Hair Scalp scrubber Massager Shampoo Brush for Straight Curly Long Short Thick Thin Wet Dry Hair, Men Women Kids Scalp Care Hair Cleaning Shower, Scalp Care Brush,100% comfortable</td>\n",
       "      <td>[]</td>\n",
       "      <td>[]</td>\n",
       "    </tr>\n",
       "    <tr>\n",
       "      <th>11445</th>\n",
       "      <td>NOBLE Wigs for White Women Purple Lace Wigs for Black Women 27 Inch Long Curly Wavy Colored Wigs Middle Part Heat Resistant Synthetic Ombre Purple Wavy Wigs for Daily Party Cosplay Use</td>\n",
       "      <td>[]</td>\n",
       "      <td>[]</td>\n",
       "    </tr>\n",
       "    <tr>\n",
       "      <th>14591</th>\n",
       "      <td>Fragrantshare Makeup Brushes Professional Organizer Foundation Brush for Liquid makeup Travel 9Pcs Sets - Odorless Fiber Hair - Light Blue</td>\n",
       "      <td>[]</td>\n",
       "      <td>[]</td>\n",
       "    </tr>\n",
       "    <tr>\n",
       "      <th>15061</th>\n",
       "      <td>SportsWell Flexible Reusable Bun Deft Bun for Hair Magic Donut Hair Bun Maker French Twist Hair Tool Bun Crown Twister #5</td>\n",
       "      <td>[]</td>\n",
       "      <td>[]</td>\n",
       "    </tr>\n",
       "    <tr>\n",
       "      <th>24577</th>\n",
       "      <td>Bejeweled Rhinestone Padded Headbands For Girls Velvet Padded Diamond Headbands For Women Party Wedding Fashion Bejewelled Hairband Headpiece Hair Accessories</td>\n",
       "      <td>[PACKAGE: 3pcs one piece Diamond Headband one piece Diamond Earrings and one piece Elastic Butterfly headband, which can match your daily wearing and makes you more lovely and charming in party. HIGH QUALITY MATERIAL: Fashion headwear made from rhinestones and plastic hair hoop. Each plastic headband has fabric covered to protect your head.  BLING RHINESTONE DESIGN: Bling bling crystal rhinestone design makes it more different. Each diamond headband are handmade,looks and touch not as cheap as others Upgrade Your Style This Luxury Rhinestone Headband is Perfect for Workday, Special Occasions and All Festive Activities in Any Season ,Suitable for Party, Wedding and other Occasions ;  We are Sure that you will WIN a Lot of Compliments With These Beautiful Headbands.  Fits All Styles Suitable for Long Hair, Short Hair, Straight Hair, Curly or Wavy Hair, Thin Hair, Medium-Thick Hair, Thick Hair, and Extra Thick Long Hair.]</td>\n",
       "      <td>[About this item ☺♥🦋Package includes: you will receive 3 pieces :one piece Diamond Headband one piece Diamond Earrings and one piece Elastic Butterfly headband, the different type match your daily fashion outfits, and make your life be colorful and shinning!, ☺♥🦋Quality material: 1.the diamond of padded rhinestone headband is more shiny and fuller, and better gloss than ordinary rhinestones and not easy to fall off and break, soft velvet for long-term usage 2.Earrings:High Quality Crystal Diamond Vintage Court Bohemian fashion style Earrings with alloy material 3. Elastic Butterfly headband:The Butterfly headband is very fashional and will ensure to absorb sweat.Great to wear in sport or daily fashion outfits., ☺♥🦋Diamond headband sewn from high quality velvet, it touches soft, will not hurt your hair and scalp, bring no pressure and non-slip, which will let you feel light-weighted and comfortable when wearing, everyone needs to have a diamond headband., ☺♥🦋 Exquiste Design: Fashionable headpieces made of rhinestones and velvet reflect light and natural light, making hair hoop look bright and elegant., ☺♥🦋Comfortable to wear: pretty and shiny padded headband measures approx. 1.2 inches in width in centre widest point, and 0.8 inch thick in centre thickest point; The advantages of padded velvet is the key to avoiding the headband headache, ☺♥🦋Fit more sizes: rhinestone headband is handmade from memory elastic plastic, can stretch to fit most women' head widths without worrying about breaking, velvet padded thick headbands suitable for most women and girls, ☺♥🦋Chic accessory: shine bright like a diamond in the party with our rhinestone velvet padded headband, a chic accessory to amp up your everyday style or provide the finishing touches to your evening outfits]</td>\n",
       "    </tr>\n",
       "  </tbody>\n",
       "</table>\n",
       "</div>"
      ],
      "text/plain": [
       "                                                                                                                                                                                            title  \\\n",
       "1666   5-Pack Hair Scalp scrubber Massager Shampoo Brush for Straight Curly Long Short Thick Thin Wet Dry Hair, Men Women Kids Scalp Care Hair Cleaning Shower, Scalp Care Brush,100% comfortable   \n",
       "11445    NOBLE Wigs for White Women Purple Lace Wigs for Black Women 27 Inch Long Curly Wavy Colored Wigs Middle Part Heat Resistant Synthetic Ombre Purple Wavy Wigs for Daily Party Cosplay Use   \n",
       "14591                                                  Fragrantshare Makeup Brushes Professional Organizer Foundation Brush for Liquid makeup Travel 9Pcs Sets - Odorless Fiber Hair - Light Blue   \n",
       "15061                                                                   SportsWell Flexible Reusable Bun Deft Bun for Hair Magic Donut Hair Bun Maker French Twist Hair Tool Bun Crown Twister #5   \n",
       "24577                              Bejeweled Rhinestone Padded Headbands For Girls Velvet Padded Diamond Headbands For Women Party Wedding Fashion Bejewelled Hairband Headpiece Hair Accessories   \n",
       "\n",
       "                                                                                                                                                                                                                                                                                                                                                                                                                                                                                                                                                                                                                                                                                                                                                                                                                                                                                                                                                                description  \\\n",
       "1666                                                                                                                                                                                                                                                                                                                                                                                                                                                                                                                                                                                                                                                                                                                                                                                                                                                                                                                                                                     []   \n",
       "11445                                                                                                                                                                                                                                                                                                                                                                                                                                                                                                                                                                                                                                                                                                                                                                                                                                                                                                                                                                    []   \n",
       "14591                                                                                                                                                                                                                                                                                                                                                                                                                                                                                                                                                                                                                                                                                                                                                                                                                                                                                                                                                                    []   \n",
       "15061                                                                                                                                                                                                                                                                                                                                                                                                                                                                                                                                                                                                                                                                                                                                                                                                                                                                                                                                                                    []   \n",
       "24577  [PACKAGE: 3pcs one piece Diamond Headband one piece Diamond Earrings and one piece Elastic Butterfly headband, which can match your daily wearing and makes you more lovely and charming in party. HIGH QUALITY MATERIAL: Fashion headwear made from rhinestones and plastic hair hoop. Each plastic headband has fabric covered to protect your head.  BLING RHINESTONE DESIGN: Bling bling crystal rhinestone design makes it more different. Each diamond headband are handmade,looks and touch not as cheap as others Upgrade Your Style This Luxury Rhinestone Headband is Perfect for Workday, Special Occasions and All Festive Activities in Any Season ,Suitable for Party, Wedding and other Occasions ;  We are Sure that you will WIN a Lot of Compliments With These Beautiful Headbands.  Fits All Styles Suitable for Long Hair, Short Hair, Straight Hair, Curly or Wavy Hair, Thin Hair, Medium-Thick Hair, Thick Hair, and Extra Thick Long Hair.]   \n",
       "\n",
       "                                                                                                                                                                                                                                                                                                                                                                                                                                                                                                                                                                                                                                                                                                                                                                                                                                                                                                                                                                                                                                                                                                                                                                                                                                                                                                                                                                                                                                                                                                                                                                                                                                                                                                                                                                                                                                                             features  \n",
       "1666                                                                                                                                                                                                                                                                                                                                                                                                                                                                                                                                                                                                                                                                                                                                                                                                                                                                                                                                                                                                                                                                                                                                                                                                                                                                                                                                                                                                                                                                                                                                                                                                                                                                                                                                                                                                                                                               []  \n",
       "11445                                                                                                                                                                                                                                                                                                                                                                                                                                                                                                                                                                                                                                                                                                                                                                                                                                                                                                                                                                                                                                                                                                                                                                                                                                                                                                                                                                                                                                                                                                                                                                                                                                                                                                                                                                                                                                                              []  \n",
       "14591                                                                                                                                                                                                                                                                                                                                                                                                                                                                                                                                                                                                                                                                                                                                                                                                                                                                                                                                                                                                                                                                                                                                                                                                                                                                                                                                                                                                                                                                                                                                                                                                                                                                                                                                                                                                                                                              []  \n",
       "15061                                                                                                                                                                                                                                                                                                                                                                                                                                                                                                                                                                                                                                                                                                                                                                                                                                                                                                                                                                                                                                                                                                                                                                                                                                                                                                                                                                                                                                                                                                                                                                                                                                                                                                                                                                                                                                                              []  \n",
       "24577  [About this item ☺♥🦋Package includes: you will receive 3 pieces :one piece Diamond Headband one piece Diamond Earrings and one piece Elastic Butterfly headband, the different type match your daily fashion outfits, and make your life be colorful and shinning!, ☺♥🦋Quality material: 1.the diamond of padded rhinestone headband is more shiny and fuller, and better gloss than ordinary rhinestones and not easy to fall off and break, soft velvet for long-term usage 2.Earrings:High Quality Crystal Diamond Vintage Court Bohemian fashion style Earrings with alloy material 3. Elastic Butterfly headband:The Butterfly headband is very fashional and will ensure to absorb sweat.Great to wear in sport or daily fashion outfits., ☺♥🦋Diamond headband sewn from high quality velvet, it touches soft, will not hurt your hair and scalp, bring no pressure and non-slip, which will let you feel light-weighted and comfortable when wearing, everyone needs to have a diamond headband., ☺♥🦋 Exquiste Design: Fashionable headpieces made of rhinestones and velvet reflect light and natural light, making hair hoop look bright and elegant., ☺♥🦋Comfortable to wear: pretty and shiny padded headband measures approx. 1.2 inches in width in centre widest point, and 0.8 inch thick in centre thickest point; The advantages of padded velvet is the key to avoiding the headband headache, ☺♥🦋Fit more sizes: rhinestone headband is handmade from memory elastic plastic, can stretch to fit most women' head widths without worrying about breaking, velvet padded thick headbands suitable for most women and girls, ☺♥🦋Chic accessory: shine bright like a diamond in the party with our rhinestone velvet padded headband, a chic accessory to amp up your everyday style or provide the finishing touches to your evening outfits]  "
      ]
     },
     "execution_count": 169,
     "metadata": {},
     "output_type": "execute_result"
    }
   ],
   "source": [
    "purchased_products = df_reviews[df_reviews.user_id == user_id_to_recommend].parent_asin.values\n",
    "df_items[df_items.parent_asin.isin(purchased_products)][['title', 'description', 'features']].head()"
   ]
  },
  {
   "cell_type": "code",
   "execution_count": 170,
   "id": "837f6f7e-41c6-49c6-85c9-59a7336b96af",
   "metadata": {},
   "outputs": [
    {
     "data": {
      "text/html": [
       "<div>\n",
       "<style scoped>\n",
       "    .dataframe tbody tr th:only-of-type {\n",
       "        vertical-align: middle;\n",
       "    }\n",
       "\n",
       "    .dataframe tbody tr th {\n",
       "        vertical-align: top;\n",
       "    }\n",
       "\n",
       "    .dataframe thead th {\n",
       "        text-align: right;\n",
       "    }\n",
       "</style>\n",
       "<table border=\"1\" class=\"dataframe\">\n",
       "  <thead>\n",
       "    <tr style=\"text-align: right;\">\n",
       "      <th></th>\n",
       "      <th>title</th>\n",
       "      <th>description</th>\n",
       "      <th>features</th>\n",
       "    </tr>\n",
       "  </thead>\n",
       "  <tbody>\n",
       "    <tr>\n",
       "      <th>19986</th>\n",
       "      <td>ALICROWN False Eyelashes Fluffy Volume 3D Lashes Pack Handmade Dramatic Thick Crossed Fake Eyelashes Soft Reusable 8 Pairs</td>\n",
       "      <td>[]</td>\n",
       "      <td>[]</td>\n",
       "    </tr>\n",
       "    <tr>\n",
       "      <th>32219</th>\n",
       "      <td>Auban Sleep Hair Wrap Bonnet Eye Cover Large Black Satin Cap for Sleeping Silk Cap Double Layer for Long Hair Curl Women Sleeping Protection Hair Beanie Block Light</td>\n",
       "      <td>[Thanks for your interest in, Auban Sleep Bonnet Eye Cover Cap, FEATURES  1. Two layer design, outer soft cotton and inner smooth satin, both are healthy to hair and will not stain.  2. Eye cover style, block lights and prevent skin wrinkles.  3. Fashionable and practical item, not only can you wear Auban eye cover bonnet at sleep, but also can put it on when doing sports or spas.  DETAILS Large size: 28 cm wide, 28 cm high Head girth: 56 cm (human average 52-58 cm)  Color: Outer black, inner gold, SUGGESTIONS:, 1. Dry your hair before you put on this sleep cap. 2. Better hand wash, turn inside around and spread to air.]</td>\n",
       "      <td>[[3 FUNCTIONS SLEEP BONNET] Auban hair wrap has 3 main benefits, first to maintain your hair neat at the morning, reducing hair mess after woke up, second to keep your head warm at night, and third to shield eyes from strong lights., [DOUBLE LAYER] Hair wrap has two no-fad.ing layers design. Outer layer is made of cotton, keeps warm in cold nights. Inner layer is smooth breathable satin that is friendly to hair and help reducing static., [EYE COVER SLEEP CAP] Auban eye cover hair bonnet is a new emerging sleep cap. It combine bonnet and blindfold together to provide a luxury sleep experience. Wearing our silk cap reduce friction between hair and pillow, prevent night hair loss, eye cover design block light and prevent skin wrinkles., [MULTIPLE USES] More than a sleep bonnet, Auban satin bonnet can be worn as a hair cover on various life scenes such as workout hat when doing sports, or hair wrap when house cleaning, or a fashion item that allows you to hide grease hair when you stay up late., [LARGE SIZE FOR CURL] Hair cap is 28cm wide and 28 cm high, measures 56cm head circumstance while people average 52-58 cm. Elastic fabric has no pressure on head but still stay on head firmly.]</td>\n",
       "    </tr>\n",
       "    <tr>\n",
       "      <th>76452</th>\n",
       "      <td>LOKFAR Velvet Adult Headbands for Women Thin Rhinestone Beaded Headband Jeweled Headband, Fashion Glitter Bedazzled Headband Crystal Embellished Hair Hoop Trendy Wedding Headband for Girls (Red+Black)</td>\n",
       "      <td>[]</td>\n",
       "      <td>[]</td>\n",
       "    </tr>\n",
       "    <tr>\n",
       "      <th>76804</th>\n",
       "      <td>HICOCU 25mm 3D Mink Lashes Full Volume Mink Eyelashes Fluffy Volume Dramatic 25mm Mink Lashes Extension Cruelty-free Siberian Mink Strip Eyelashes …… (Y715)</td>\n",
       "      <td>[]</td>\n",
       "      <td>[]</td>\n",
       "    </tr>\n",
       "    <tr>\n",
       "      <th>87449</th>\n",
       "      <td>Moshina Graceful Afro Black Kinky Curly Ponytail with 2 Clips-Natural Looking As Human Hair-Afro Puff Drawstring Ponytail for Black Women -Short Afro Curly Extensions(black 1b)</td>\n",
       "      <td>[]</td>\n",
       "      <td>[]</td>\n",
       "    </tr>\n",
       "  </tbody>\n",
       "</table>\n",
       "</div>"
      ],
      "text/plain": [
       "                                                                                                                                                                                                          title  \\\n",
       "19986                                                                                ALICROWN False Eyelashes Fluffy Volume 3D Lashes Pack Handmade Dramatic Thick Crossed Fake Eyelashes Soft Reusable 8 Pairs   \n",
       "32219                                      Auban Sleep Hair Wrap Bonnet Eye Cover Large Black Satin Cap for Sleeping Silk Cap Double Layer for Long Hair Curl Women Sleeping Protection Hair Beanie Block Light   \n",
       "76452  LOKFAR Velvet Adult Headbands for Women Thin Rhinestone Beaded Headband Jeweled Headband, Fashion Glitter Bedazzled Headband Crystal Embellished Hair Hoop Trendy Wedding Headband for Girls (Red+Black)   \n",
       "76804                                              HICOCU 25mm 3D Mink Lashes Full Volume Mink Eyelashes Fluffy Volume Dramatic 25mm Mink Lashes Extension Cruelty-free Siberian Mink Strip Eyelashes …… (Y715)   \n",
       "87449                          Moshina Graceful Afro Black Kinky Curly Ponytail with 2 Clips-Natural Looking As Human Hair-Afro Puff Drawstring Ponytail for Black Women -Short Afro Curly Extensions(black 1b)   \n",
       "\n",
       "                                                                                                                                                                                                                                                                                                                                                                                                                                                                                                                                                                                                                                                description  \\\n",
       "19986                                                                                                                                                                                                                                                                                                                                                                                                                                                                                                                                                                                                                                                    []   \n",
       "32219  [Thanks for your interest in, Auban Sleep Bonnet Eye Cover Cap, FEATURES  1. Two layer design, outer soft cotton and inner smooth satin, both are healthy to hair and will not stain.  2. Eye cover style, block lights and prevent skin wrinkles.  3. Fashionable and practical item, not only can you wear Auban eye cover bonnet at sleep, but also can put it on when doing sports or spas.  DETAILS Large size: 28 cm wide, 28 cm high Head girth: 56 cm (human average 52-58 cm)  Color: Outer black, inner gold, SUGGESTIONS:, 1. Dry your hair before you put on this sleep cap. 2. Better hand wash, turn inside around and spread to air.]   \n",
       "76452                                                                                                                                                                                                                                                                                                                                                                                                                                                                                                                                                                                                                                                    []   \n",
       "76804                                                                                                                                                                                                                                                                                                                                                                                                                                                                                                                                                                                                                                                    []   \n",
       "87449                                                                                                                                                                                                                                                                                                                                                                                                                                                                                                                                                                                                                                                    []   \n",
       "\n",
       "                                                                                                                                                                                                                                                                                                                                                                                                                                                                                                                                                                                                                                                                                                                                                                                                                                                                                                                                                                                                                                                                                                                                                                                                                                               features  \n",
       "19986                                                                                                                                                                                                                                                                                                                                                                                                                                                                                                                                                                                                                                                                                                                                                                                                                                                                                                                                                                                                                                                                                                                                                                                                                                                []  \n",
       "32219  [[3 FUNCTIONS SLEEP BONNET] Auban hair wrap has 3 main benefits, first to maintain your hair neat at the morning, reducing hair mess after woke up, second to keep your head warm at night, and third to shield eyes from strong lights., [DOUBLE LAYER] Hair wrap has two no-fad.ing layers design. Outer layer is made of cotton, keeps warm in cold nights. Inner layer is smooth breathable satin that is friendly to hair and help reducing static., [EYE COVER SLEEP CAP] Auban eye cover hair bonnet is a new emerging sleep cap. It combine bonnet and blindfold together to provide a luxury sleep experience. Wearing our silk cap reduce friction between hair and pillow, prevent night hair loss, eye cover design block light and prevent skin wrinkles., [MULTIPLE USES] More than a sleep bonnet, Auban satin bonnet can be worn as a hair cover on various life scenes such as workout hat when doing sports, or hair wrap when house cleaning, or a fashion item that allows you to hide grease hair when you stay up late., [LARGE SIZE FOR CURL] Hair cap is 28cm wide and 28 cm high, measures 56cm head circumstance while people average 52-58 cm. Elastic fabric has no pressure on head but still stay on head firmly.]  \n",
       "76452                                                                                                                                                                                                                                                                                                                                                                                                                                                                                                                                                                                                                                                                                                                                                                                                                                                                                                                                                                                                                                                                                                                                                                                                                                                []  \n",
       "76804                                                                                                                                                                                                                                                                                                                                                                                                                                                                                                                                                                                                                                                                                                                                                                                                                                                                                                                                                                                                                                                                                                                                                                                                                                                []  \n",
       "87449                                                                                                                                                                                                                                                                                                                                                                                                                                                                                                                                                                                                                                                                                                                                                                                                                                                                                                                                                                                                                                                                                                                                                                                                                                                []  "
      ]
     },
     "execution_count": 170,
     "metadata": {},
     "output_type": "execute_result"
    }
   ],
   "source": [
    "recommended_item_ids = [i[0] for i in recommendations]\n",
    "\n",
    "df_items.loc[df_items.parent_asin.isin(recommended_item_ids)][['title', 'description', 'features']].head()"
   ]
  },
  {
   "cell_type": "markdown",
   "id": "4cc10cab-7d8f-4614-aff2-836ab05b3248",
   "metadata": {},
   "source": [
    "# Evaluate"
   ]
  },
  {
   "cell_type": "code",
   "execution_count": 151,
   "id": "3b7d529d-4913-4da1-828a-ecd73c472b3a",
   "metadata": {},
   "outputs": [],
   "source": [
    "def evaluate_recommendations(test_df, train_user_item_matrix, user_similarity, user_id_mapping, item_id_mapping, top_n=5):\n",
    "    \"\"\"\n",
    "    Evaluate the recommendation system using precision and recall.\n",
    "    \"\"\"\n",
    "    precisions = []\n",
    "    recalls = []\n",
    "    recommendations = defaultdict(list)\n",
    "\n",
    "    # build ground truth\n",
    "    ground_truth = test_df.groupby('user_id')['parent_asin'].apply(set).to_dict()\n",
    "\n",
    "    for user_id in tqdm(test_df['user_id'].unique(), total=len(test_df['user_id'].unique())):\n",
    "        if user_id in user_id_mapping:\n",
    "            user_index = user_id_mapping[user_id]\n",
    "\n",
    "            # generate recommendations\n",
    "            top_indices, predicted_scores = recommend_items_user_based(\n",
    "                user_index=user_index,\n",
    "                user_item_matrix=train_user_item_matrix,\n",
    "                user_similarity=user_similarity,\n",
    "                top_n=top_n\n",
    "            )\n",
    "            recommendations[user_id] = [reverse_item_id_mapping[idx] for idx in top_indices]\n",
    "\n",
    "            # items user rated \n",
    "            relevant_items = ground_truth.get(user_id, set())\n",
    "            # recomemended items\n",
    "            recommended_set = set(recommendations[user_id])\n",
    "            # items that are relevant and were recommended\n",
    "            relevant_recommended = recommended_set & relevant_items\n",
    "\n",
    "            # precision and recall\n",
    "            precision = len(relevant_recommended) / len(recommendations[user_id]) if recommendations[user_id] else 0\n",
    "            recall = len(relevant_recommended) / len(relevant_items) if relevant_items else 0\n",
    "\n",
    "            precisions.append(precision)\n",
    "            recalls.append(recall)\n",
    "\n",
    "    return np.mean(precisions), np.mean(recalls)\n"
   ]
  },
  {
   "cell_type": "code",
   "execution_count": 175,
   "id": "166c84e9-9a52-4eb3-bb02-f91af3f2fc0b",
   "metadata": {},
   "outputs": [
    {
     "name": "stderr",
     "output_type": "stream",
     "text": [
      "100%|██████████████████████████████████████| 1620/1620 [00:07<00:00, 210.61it/s]"
     ]
    },
    {
     "name": "stdout",
     "output_type": "stream",
     "text": [
      "Precision@10: 0.0002\n",
      "Recall@10: 0.0013\n"
     ]
    },
    {
     "name": "stderr",
     "output_type": "stream",
     "text": [
      "\n"
     ]
    }
   ],
   "source": [
    "top_n = 10\n",
    "# Evaluate recommendations\n",
    "precision, recall = evaluate_recommendations(\n",
    "    test_df=test_df,\n",
    "    train_user_item_matrix=train_user_item_matrix,\n",
    "    user_similarity=user_similarity,\n",
    "    user_id_mapping=user_id_mapping,\n",
    "    item_id_mapping=item_id_mapping,\n",
    "    top_n=top_n\n",
    ")\n",
    "\n",
    "print(f\"Precision@{top_n}: {precision:.4f}\")\n",
    "print(f\"Recall@{top_n}: {recall:.4f}\")\n"
   ]
  },
  {
   "cell_type": "code",
   "execution_count": null,
   "id": "cd5e94f0-2302-4b81-bdb2-0de6819105b5",
   "metadata": {},
   "outputs": [],
   "source": [
    "# rating prediction error"
   ]
  },
  {
   "cell_type": "code",
   "execution_count": 155,
   "id": "6c2a4eac-0763-4500-a0dd-26e43e92c997",
   "metadata": {},
   "outputs": [],
   "source": [
    "def calculate_rmse(test_df, train_user_item_matrix, user_similarity, user_id_mapping, item_id_mapping):\n",
    "    errors = []\n",
    "\n",
    "    for _, row in tqdm(test_df.iterrows(), total=test_df.shape[0]):\n",
    "        user_id = row['user_id']\n",
    "        item_id = row['parent_asin']\n",
    "        true_rating = row['rating']\n",
    "\n",
    "        # map user and item ids to their indices\n",
    "        if user_id in user_id_mapping and item_id in item_id_mapping:\n",
    "            user_index = user_id_mapping[user_id]\n",
    "            item_index = item_id_mapping[item_id]\n",
    "\n",
    "            # predict the rating\n",
    "            similarities = user_similarity[user_index]\n",
    "            ratings = train_user_item_matrix[:, item_index]\n",
    "\n",
    "            weighted_sum = np.dot(similarities, ratings)\n",
    "            normalization_factor = np.abs(similarities).sum()\n",
    "            predicted_rating = weighted_sum / (normalization_factor + 1e-8)\n",
    "\n",
    "            # add the squared error\n",
    "            errors.append((predicted_rating - true_rating) ** 2)\n",
    "\n",
    "    return np.sqrt(np.mean(errors))\n",
    "\n"
   ]
  },
  {
   "cell_type": "code",
   "execution_count": 156,
   "id": "7dfd4e12-19a3-460c-8fb8-c1795f96fd66",
   "metadata": {},
   "outputs": [
    {
     "name": "stderr",
     "output_type": "stream",
     "text": [
      "100%|████████████████████████████████████| 2171/2171 [00:00<00:00, 28682.50it/s]"
     ]
    },
    {
     "name": "stdout",
     "output_type": "stream",
     "text": [
      "RMSE: 4.354642559158511\n"
     ]
    },
    {
     "name": "stderr",
     "output_type": "stream",
     "text": [
      "\n"
     ]
    }
   ],
   "source": [
    "# Example usage\n",
    "user_id_mapping = {user_id: idx for idx, user_id in enumerate(train_df['user_id'].unique())}\n",
    "item_id_mapping = {item_id: idx for idx, item_id in enumerate(train_df['parent_asin'].unique())}\n",
    "\n",
    "rmse = calculate_rmse(test_df, train_user_item_matrix, user_similarity, user_id_mapping, item_id_mapping)\n",
    "print(\"RMSE:\", rmse)\n"
   ]
  },
  {
   "cell_type": "markdown",
   "id": "39896e8b-ca81-425d-898e-60b3fb9d165c",
   "metadata": {},
   "source": [
    "# Result Analysis\n",
    "\n",
    "* Results are really bad, probably due to high matrix sparsity\n",
    "* Users and items have few interactions\n",
    "* With so few non-zeros finding similarites becomes challenging"
   ]
  },
  {
   "cell_type": "code",
   "execution_count": 181,
   "id": "ecf4d906-7950-4492-b8b1-effbac9dd1b3",
   "metadata": {},
   "outputs": [
    {
     "data": {
      "text/plain": [
       "0.9987806218608658"
      ]
     },
     "execution_count": 181,
     "metadata": {},
     "output_type": "execute_result"
    }
   ],
   "source": [
    "1 - (np.count_nonzero(train_user_item_matrix) / train_user_item_matrix.size  )"
   ]
  },
  {
   "cell_type": "code",
   "execution_count": null,
   "id": "4b59d00f-dc57-4bd3-ab85-1680062cda3b",
   "metadata": {},
   "outputs": [],
   "source": []
  }
 ],
 "metadata": {
  "kernelspec": {
   "display_name": "Python 3 (ipykernel)",
   "language": "python",
   "name": "python3"
  },
  "language_info": {
   "codemirror_mode": {
    "name": "ipython",
    "version": 3
   },
   "file_extension": ".py",
   "mimetype": "text/x-python",
   "name": "python",
   "nbconvert_exporter": "python",
   "pygments_lexer": "ipython3",
   "version": "3.12.3"
  }
 },
 "nbformat": 4,
 "nbformat_minor": 5
}

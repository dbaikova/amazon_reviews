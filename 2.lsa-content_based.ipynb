{
 "cells": [
  {
   "cell_type": "markdown",
   "id": "fa56ab43-227e-4c7a-ba68-78bf390a288e",
   "metadata": {},
   "source": [
    "# Content Based Filtering with LSA\n",
    "\n",
    "\n",
    "* Goal: find similar items based on text features\n",
    "* Use LSA to capture the latent relationship between items\n",
    "* Calculates cosine similarity to identify items that are most similar to the given item\n"
   ]
  },
  {
   "cell_type": "code",
   "execution_count": 195,
   "id": "0fe1b72b-af08-4645-9347-4a8dbd817e0f",
   "metadata": {},
   "outputs": [],
   "source": [
    "import numpy as np\n",
    "import pandas as pd\n",
    "import seaborn as sns\n",
    "from datasets import load_dataset\n",
    "from sklearn.decomposition import TruncatedSVD\n",
    "from sklearn.feature_extraction.text import TfidfVectorizer\n",
    "from sklearn.metrics.pairwise import cosine_similarity\n",
    "from tqdm import tqdm\n",
    "\n",
    "from text_pre_processing import combine_text_features, pre_process_text\n",
    "\n",
    "pd.set_option('display.max_rows', 500)\n",
    "pd.set_option('display.max_columns', 500)\n",
    "pd.set_option('display.max_colwidth', None)"
   ]
  },
  {
   "cell_type": "markdown",
   "id": "2efe79e5-5ee5-4df7-b9cc-171905dcb165",
   "metadata": {},
   "source": [
    "# Load Data"
   ]
  },
  {
   "cell_type": "code",
   "execution_count": 6,
   "id": "886423cb-9ca5-4630-936a-1af8896ed8e1",
   "metadata": {},
   "outputs": [],
   "source": [
    "dataset_reviews = load_dataset(\"McAuley-Lab/Amazon-Reviews-2023\", \"raw_review_All_Beauty\", trust_remote_code=True)\n",
    "df_reviews = dataset_reviews[\"full\"].to_pandas()\n",
    "\n",
    "dataset_items = load_dataset(\"McAuley-Lab/Amazon-Reviews-2023\", \"raw_meta_All_Beauty\", split=\"full\", trust_remote_code=True)\n",
    "df_items = dataset_items.to_pandas()"
   ]
  },
  {
   "cell_type": "code",
   "execution_count": 184,
   "id": "139b41b9-9ae7-4ccf-b51f-18ed2c583c8c",
   "metadata": {},
   "outputs": [
    {
     "data": {
      "text/plain": [
       "Index(['rating', 'title', 'text', 'images', 'asin', 'parent_asin', 'user_id',\n",
       "       'timestamp', 'helpful_vote', 'verified_purchase'],\n",
       "      dtype='object')"
      ]
     },
     "execution_count": 184,
     "metadata": {},
     "output_type": "execute_result"
    }
   ],
   "source": [
    "df_reviews.columns"
   ]
  },
  {
   "cell_type": "code",
   "execution_count": 8,
   "id": "bf5ed382-ddd4-496f-bc6a-40f38a58f3dc",
   "metadata": {},
   "outputs": [
    {
     "data": {
      "text/html": [
       "<div>\n",
       "<style scoped>\n",
       "    .dataframe tbody tr th:only-of-type {\n",
       "        vertical-align: middle;\n",
       "    }\n",
       "\n",
       "    .dataframe tbody tr th {\n",
       "        vertical-align: top;\n",
       "    }\n",
       "\n",
       "    .dataframe thead th {\n",
       "        text-align: right;\n",
       "    }\n",
       "</style>\n",
       "<table border=\"1\" class=\"dataframe\">\n",
       "  <thead>\n",
       "    <tr style=\"text-align: right;\">\n",
       "      <th></th>\n",
       "      <th>main_category</th>\n",
       "      <th>title</th>\n",
       "      <th>average_rating</th>\n",
       "      <th>rating_number</th>\n",
       "      <th>features</th>\n",
       "      <th>description</th>\n",
       "      <th>price</th>\n",
       "      <th>images</th>\n",
       "      <th>videos</th>\n",
       "      <th>store</th>\n",
       "      <th>categories</th>\n",
       "      <th>details</th>\n",
       "      <th>parent_asin</th>\n",
       "      <th>bought_together</th>\n",
       "      <th>subtitle</th>\n",
       "      <th>author</th>\n",
       "    </tr>\n",
       "  </thead>\n",
       "  <tbody>\n",
       "    <tr>\n",
       "      <th>0</th>\n",
       "      <td>All Beauty</td>\n",
       "      <td>Howard LC0008 Leather Conditioner, 8-Ounce (4-Pack)</td>\n",
       "      <td>4.8</td>\n",
       "      <td>10</td>\n",
       "      <td>[]</td>\n",
       "      <td>[]</td>\n",
       "      <td>None</td>\n",
       "      <td>{'hi_res': [None, 'https://m.media-amazon.com/images/I/71i77AuI9xL._SL1500_.jpg'], 'large': ['https://m.media-amazon.com/images/I/41qfjSfqNyL.jpg', 'https://m.media-amazon.com/images/I/41w2yznfuZL.jpg'], 'thumb': ['https://m.media-amazon.com/images/I/41qfjSfqNyL._SS40_.jpg', 'https://m.media-amazon.com/images/I/41w2yznfuZL._SS40_.jpg'], 'variant': ['MAIN', 'PT01']}</td>\n",
       "      <td>{'title': [], 'url': [], 'user_id': []}</td>\n",
       "      <td>Howard Products</td>\n",
       "      <td>[]</td>\n",
       "      <td>{\"Package Dimensions\": \"7.1 x 5.5 x 3 inches; 2.38 Pounds\", \"UPC\": \"617390882781\"}</td>\n",
       "      <td>B01CUPMQZE</td>\n",
       "      <td>None</td>\n",
       "      <td>None</td>\n",
       "      <td>None</td>\n",
       "    </tr>\n",
       "  </tbody>\n",
       "</table>\n",
       "</div>"
      ],
      "text/plain": [
       "  main_category                                                title  \\\n",
       "0    All Beauty  Howard LC0008 Leather Conditioner, 8-Ounce (4-Pack)   \n",
       "\n",
       "   average_rating  rating_number features description price  \\\n",
       "0             4.8             10       []          []  None   \n",
       "\n",
       "                                                                                                                                                                                                                                                                                                                                                                            images  \\\n",
       "0  {'hi_res': [None, 'https://m.media-amazon.com/images/I/71i77AuI9xL._SL1500_.jpg'], 'large': ['https://m.media-amazon.com/images/I/41qfjSfqNyL.jpg', 'https://m.media-amazon.com/images/I/41w2yznfuZL.jpg'], 'thumb': ['https://m.media-amazon.com/images/I/41qfjSfqNyL._SS40_.jpg', 'https://m.media-amazon.com/images/I/41w2yznfuZL._SS40_.jpg'], 'variant': ['MAIN', 'PT01']}   \n",
       "\n",
       "                                    videos            store categories  \\\n",
       "0  {'title': [], 'url': [], 'user_id': []}  Howard Products         []   \n",
       "\n",
       "                                                                              details  \\\n",
       "0  {\"Package Dimensions\": \"7.1 x 5.5 x 3 inches; 2.38 Pounds\", \"UPC\": \"617390882781\"}   \n",
       "\n",
       "  parent_asin bought_together subtitle author  \n",
       "0  B01CUPMQZE            None     None   None  "
      ]
     },
     "execution_count": 8,
     "metadata": {},
     "output_type": "execute_result"
    }
   ],
   "source": [
    "df_items.head(1)"
   ]
  },
  {
   "cell_type": "code",
   "execution_count": 161,
   "id": "53f24430-edc8-46d7-bd6c-2cbbef7dbd65",
   "metadata": {},
   "outputs": [],
   "source": [
    "df_items['title_description_features'] = df_items.apply(combine_text_features, axis=1)"
   ]
  },
  {
   "cell_type": "code",
   "execution_count": 162,
   "id": "7cfec107-4811-42a7-b9ed-b121b6dcc3ca",
   "metadata": {},
   "outputs": [
    {
     "data": {
      "text/plain": [
       "0                                                                                                                                                                                                                                                                                                                                                                                                                                                                                                                                                                                                                                                                                                                   Howard LC0008 Leather Conditioner, 8-Ounce (4-Pack)\n",
       "1                                                                                                                                                                                                                                                                                                                                                                                                                                                                                                                                                                                                                       Yes to Tomatoes Detoxifying Charcoal Cleanser (Pack of 2) with Charcoal Powder, Tomato Fruit Extract, and Gingko Biloba Leaf Extract, 5 fl. oz.\n",
       "2                                                                                                                                                                                                                                                                                                                                                                                                                                                                                                                                                                                                                                                                                                                      Eye Patch Black Adult with Tie Band (6 Per Pack)\n",
       "3                                                                                                                                                                                                                                                                                                                                                                                                                                                                                                                                                                                                        Tattoo Eyebrow Stickers, Waterproof Eyebrow, 4D Imitation Eyebrow Tattoos, 4D Hair-like Authentic Eyebrows Waterproof Long Lasting for Woman & Man Makeup Tool\n",
       "4    Precision Plunger Bars for Cartridge Grips – 93mm – Bag of 10 Plungers The Precision Plunger Bars are designed to work seamlessly with the Precision Disposable 1. 25\" Contoured Soft Cartridge Grips and the Precision Disposable 1\" Textured Soft Cartridge Grips to drive cartridge needles with vice style or standard tattoo machine setups. These plunger bars are manufactured from 304 Stainless Steel and feature a brass tip. The plungers are sold in a bag of ten in your choice of 88mm, 93mm, or 98mm length. Material: 304 Stainless Steel; Brass tip Lengths Available: 88mm, 93mm, 98mm Accepts cartridge needles with vice style tattoo machines Works perfectly with Precision Disposable Soft Cartridge Grips Price per one bag of 10 plungers\n",
       "Name: title_description_features, dtype: object"
      ]
     },
     "execution_count": 162,
     "metadata": {},
     "output_type": "execute_result"
    }
   ],
   "source": [
    "df_items.title_description_features.head()"
   ]
  },
  {
   "cell_type": "code",
   "execution_count": 163,
   "id": "4e39c1e5-fda3-4e76-ac4a-c295ed92426b",
   "metadata": {},
   "outputs": [],
   "source": [
    "df_items = pre_process_text(df_items, input_col='title_description_features', output_col='title_description_features_pre_processed')"
   ]
  },
  {
   "cell_type": "code",
   "execution_count": 142,
   "id": "39c4fbca-8a63-4f59-9ae6-a18e7913c34e",
   "metadata": {},
   "outputs": [
    {
     "data": {
      "text/plain": [
       "0                                                                                                                                                                                                                                                                                                                                                                                                                                                                                                                                                                                                                                                                                                                                                                                                                 howard lc leather conditioner ounce pack\n",
       "1                                                                                                                                                                                                                                                                                                                                                                                                                                                                                                                                                                                                                                                                                                                                      yes tomato detoxifying charcoal cleanser pack charcoal powder tomato fruit extract gingko biloba leaf extract fl oz\n",
       "2                                                                                                                                                                                                                                                                                                                                                                                                                                                                                                                                                                                                                                                                                                                                                                                                                  eye patch black adult tie band per pack\n",
       "3                                                                                                                                                                                                                                                                                                                                                                                                                                                                                                                                                                                                                                                                                                              tattoo eyebrow sticker waterproof eyebrow imitation eyebrow tattoo hairlike authentic eyebrow waterproof long lasting woman man makeup tool\n",
       "4                                                                                                                                                                                                                                                                         precision plunger bar cartridge grip mm bag plunger precision plunger bar designed work seamlessly precision disposable contoured soft cartridge grip precision disposable textured soft cartridge grip drive cartridge needle vice style standard tattoo machine setup plunger bar manufactured stainless steel feature brass tip plunger sold bag ten choice mm mm mm length material stainless steel brass tip length available mm mm mm accepts cartridge needle vice style tattoo machine work perfectly precision disposable soft cartridge grip price per one bag plunger\n",
       "5    lurrose pc full cover fake toenail artificial transparent nail tip nail art diy description false toenail durable perfect length option wear long clip short easy trim file length shape like plus ab kind green enviromental material make nail durable breathable light even pressure toenail fit well natural toenail non toxic smell harm health feature color shown material ab size x x cm package including x piece fake toenail false toenail durable perfect length option wear long clip short easy trim file length shape like ab kind green enviromental material make nail durable breathable light even pressure nail fit well natural toenail non toxic smell harm health wonderful gift girlfriend family friend easiest efficient way toenail tip manicure nail art design fashion creative useful accessory brighten look also gift\n",
       "6                                                                                                                                                                                                                                                                                                                                                                                                                                                                                                                                                                                                                                                                                                                                                                                stain bonnet baby bonnet silk sleep cap toddler child shower cap teen kid\n",
       "7                                                                                                                                                                                                                                                                                                                                                                                                                                                                                                                                                                                                                                                                                                                 piece false eyelash packaging box empty eyelash box plastic eyelash storage case glitter paper clear tray woman girl eyelash holographic\n",
       "8                                                                                                                                                                                                                                                                                                                                                                                                                                                                                                                                                                                                                                                                                                                                                gold extatic musk edt ml edt spray oz design house balmain extatic balmain gold musk balmain edt spray oz\n",
       "9                                                                                                                                                                                                                                                                                                                                                                                                                                                                                                                                                                                                                                                                                   piece satin bonnet adjustable sleep cap double layer printed hair bonnet large reversible sleeping silk night hair cap woman natural curly hair floral flamingo flower\n",
       "Name: title_description_features_pre_processed, dtype: object"
      ]
     },
     "execution_count": 142,
     "metadata": {},
     "output_type": "execute_result"
    }
   ],
   "source": [
    "df_items.title_description_features_pre_processed.head(10)"
   ]
  },
  {
   "cell_type": "code",
   "execution_count": 13,
   "id": "a4838d2e-688e-48e0-a951-0d18b31175ff",
   "metadata": {},
   "outputs": [],
   "source": [
    "# Tf IDF"
   ]
  },
  {
   "cell_type": "code",
   "execution_count": 164,
   "id": "6a8ee58e-985a-444f-98af-f0f9e16d77b2",
   "metadata": {},
   "outputs": [],
   "source": [
    "tfidf = TfidfVectorizer(stop_words='english', max_features=5000)\n",
    "tfidf_matrix = tfidf.fit_transform(df_items['title_description_features_pre_processed'])"
   ]
  },
  {
   "cell_type": "code",
   "execution_count": 165,
   "id": "64ceb1f2-e3a7-4a8a-a4c0-bd3eaa035d2f",
   "metadata": {},
   "outputs": [
    {
     "data": {
      "text/plain": [
       "(112590, 5000)"
      ]
     },
     "execution_count": 165,
     "metadata": {},
     "output_type": "execute_result"
    }
   ],
   "source": [
    "tfidf_matrix.shape"
   ]
  },
  {
   "cell_type": "markdown",
   "id": "ac4fdb91-f116-4695-8d12-b46cae2ecc8a",
   "metadata": {},
   "source": [
    "# LSA"
   ]
  },
  {
   "cell_type": "code",
   "execution_count": 167,
   "id": "a0201be9-b062-4abd-b7c5-f8daa37fcbe2",
   "metadata": {},
   "outputs": [],
   "source": [
    "n_topics = 50\n",
    "lsa = TruncatedSVD(n_components=n_topics, random_state=42)\n",
    "lsa_matrix = lsa.fit_transform(tfidf_matrix)"
   ]
  },
  {
   "cell_type": "code",
   "execution_count": 168,
   "id": "7e0fdcdc-19c0-402b-9598-e1beaeab7bfb",
   "metadata": {},
   "outputs": [
    {
     "data": {
      "text/plain": [
       "(112590, 50)"
      ]
     },
     "execution_count": 168,
     "metadata": {},
     "output_type": "execute_result"
    }
   ],
   "source": [
    "lsa_matrix.shape"
   ]
  },
  {
   "cell_type": "markdown",
   "id": "7ce1ab23-b8d6-43e7-bfab-d58618915436",
   "metadata": {},
   "source": [
    "# Analyse a few Predictions"
   ]
  },
  {
   "cell_type": "code",
   "execution_count": 169,
   "id": "a45b2891-5c3d-4c4b-afe2-8a313164cf11",
   "metadata": {},
   "outputs": [],
   "source": [
    "def get_similar_items(item_id, item_ids, lsa_matrix, top_n=5):\n",
    "    \"\"\"\n",
    "    Find top-N similar items to a given item.\n",
    "\n",
    "    Parameters:\n",
    "        item_id (str): The ID of the item to find similar items for.\n",
    "        item_profiles (dict): Dictionary with item IDs as keys and their vector representations as values.\n",
    "        item_vectors (list): List of vector representations for all items.\n",
    "        top_n (int): Number of similar items to retrieve.\n",
    "\n",
    "    Returns:\n",
    "        List of tuples [(similar_item_id, similarity_score), ...].\n",
    "    \"\"\"\n",
    "    if item_id not in item_ids:\n",
    "        print(f\"Item {item_id} not found in the dataset.\")\n",
    "        return []\n",
    "\n",
    "    item_index = np.where(item_ids == item_id)[0][0] \n",
    "    item_vector = lsa_matrix[item_index].reshape(1, -1)\n",
    "\n",
    "    # calculate cosine similarity with all other items\n",
    "    similarities = cosine_similarity(item_vector, lsa_matrix)[0]\n",
    "    sorted_indices = np.argsort(similarities)[::-1]\n",
    "\n",
    "    # exclude queried item itself\n",
    "    top_indices = [idx for idx in sorted_indices][:top_n]\n",
    "    \n",
    "    similar_items = [(list(item_profiles.keys())[idx], similarities[idx]) for idx in top_indices]\n",
    "    return similar_items\n",
    "\n"
   ]
  },
  {
   "cell_type": "code",
   "execution_count": 170,
   "id": "9d71cc9e-9bcb-4c3c-934c-daed17f72441",
   "metadata": {},
   "outputs": [],
   "source": [
    "def get_similar_items(item_id, item_ids, lsa_matrix, top_n=5):\n",
    "    \"\"\"\n",
    "    Find top-N similar items to a given item.\n",
    "\n",
    "    Parameters:\n",
    "        item_id (str): The ID of the item to find similar items for.\n",
    "        item_ids (array-like): List or array of item IDs corresponding to rows in lsa_matrix.\n",
    "        lsa_matrix (ndarray): The matrix of item vectors (each row is an item's vector).\n",
    "        top_n (int): Number of similar items to retrieve.\n",
    "\n",
    "    Returns:\n",
    "        List of tuples [(similar_item_id, similarity_score), ...].\n",
    "    \"\"\"\n",
    "    if item_id not in item_ids:\n",
    "        print(f\"Item {item_id} not found in the dataset.\")\n",
    "        return []\n",
    "\n",
    "    # find the index of the queried item\n",
    "    item_index = np.where(item_ids == item_id)[0][0]\n",
    "    normalized_matrix  = normalize(lsa_matrix)\n",
    "    item_vector = normalized_matrix[item_index].reshape(1, -1)\n",
    "\n",
    "    # calculate cosine similarity with all other items\n",
    "    similarities = cosine_similarity(item_vector, lsa_matrix)[0]\n",
    "    sorted_indices = np.argsort(similarities)[::-1]\n",
    "\n",
    "    # Include the queried item itself as the most similar\n",
    "    top_indices = [idx for idx in sorted_indices if idx != item_index][:top_n]\n",
    "\n",
    "    # Map indices back to item IDs and similarity scores\n",
    "    similar_items = [(item_ids[idx], similarities[idx]) for idx in top_indices]\n",
    "\n",
    "    return similar_items"
   ]
  },
  {
   "cell_type": "code",
   "execution_count": 171,
   "id": "45c61c77-0d0a-413f-adc4-dfd38ee501ee",
   "metadata": {},
   "outputs": [],
   "source": [
    "item_ids = df_items.parent_asin.values\n"
   ]
  },
  {
   "cell_type": "code",
   "execution_count": 172,
   "id": "b987b940-0b4e-417c-9c6b-dcf70618c800",
   "metadata": {},
   "outputs": [
    {
     "data": {
      "text/html": [
       "<div>\n",
       "<style scoped>\n",
       "    .dataframe tbody tr th:only-of-type {\n",
       "        vertical-align: middle;\n",
       "    }\n",
       "\n",
       "    .dataframe tbody tr th {\n",
       "        vertical-align: top;\n",
       "    }\n",
       "\n",
       "    .dataframe thead th {\n",
       "        text-align: right;\n",
       "    }\n",
       "</style>\n",
       "<table border=\"1\" class=\"dataframe\">\n",
       "  <thead>\n",
       "    <tr style=\"text-align: right;\">\n",
       "      <th></th>\n",
       "      <th>parent_asin</th>\n",
       "      <th>title</th>\n",
       "      <th>title_description_pre_processed</th>\n",
       "      <th>similarity</th>\n",
       "    </tr>\n",
       "  </thead>\n",
       "  <tbody>\n",
       "    <tr>\n",
       "      <th>88042</th>\n",
       "      <td>B00X6P92OG</td>\n",
       "      <td>OZNaturals Tinted Moisturizer, SPF 30 Sunscreen. Broad Spectrum Protection. Zinc Oxide + Minerals In This Tinted Sunscreen Protects, Moisturizes And Blends Well To Provide A Rich, Youthful Glow!</td>\n",
       "      <td>oznaturals tinted moisturizer spf sunscreen broad spectrum protection zinc oxide mineral tinted sunscreen protects moisturizes blend well provide rich youthful glow skin care expert dermatologist agreement importance wearing sunscreen premature aging skin caused sun exposure photo aging known skin care circle includes wrinkle freckle age spot blotchy complexion dullness sagging skin rough leathery texture word every complaint surrounding aging skin traced least part sun exposure making daily sunscreen protection spf sunscreen must sunscreen created equal oznaturals age defying solar shield spf broad spectrum tinted sunscreen zinc oxide provides broad spectrum protection sun harmful uvauvb ray moisturizing skin healthylooking hint color utilizing highly stable reflective property zinc oxide natural uv diluting quality octyl methoxycinnamate formula offer sheer broadspectrum uv coverage luxurious tinted moisturizer formulation</td>\n",
       "      <td>0.982600</td>\n",
       "    </tr>\n",
       "    <tr>\n",
       "      <th>74097</th>\n",
       "      <td>B079P8C9R9</td>\n",
       "      <td>D24k 24K Day Moisturizer with SPF 15 - All Skin Types</td>\n",
       "      <td>dk k day moisturizer spf skin type</td>\n",
       "      <td>0.981019</td>\n",
       "    </tr>\n",
       "    <tr>\n",
       "      <th>72397</th>\n",
       "      <td>B06XP3T93N</td>\n",
       "      <td>MŪN Skin Care Anarose Hydrating Rose Toner</td>\n",
       "      <td>mn skin care anarose hydrating rose toner calming toner essential balancing skin ph cleansed bulgarian rosewater instantly soothes even sensitive skin hyaluronic acid firm skin provides longlasting hydration willow bark extract contains natural salicylic acid remove dead cell healthy glow prepares skin receive nutrient goji berry extract help reduce free radical damage provides antiaging benefit combination rose jasmine daisy extract recreates velvety sensation petal skin toner ph range effective skin type</td>\n",
       "      <td>0.980434</td>\n",
       "    </tr>\n",
       "    <tr>\n",
       "      <th>59283</th>\n",
       "      <td>B075GDX7G4</td>\n",
       "      <td>HISTOLAB Vitamin C Complex Ampoule 47% Made in Korea Essential Korean Beauty Skin Care Brilliant Skin Vita C</td>\n",
       "      <td>histolab vitamin c complex ampoule made korea essential korean beauty skin care brilliant skin vita c vita c complex ampoule contains vita c complex excellent skin brightening agent help inhibit melanin synthesis also soothes moisturizes skin main ingredient vita c complexskin brightening arbutinmelanin synthesis inhibitory glycyrrhiza glabra powderevening complexion sodium hyaluronatesoothingmoisturizing</td>\n",
       "      <td>0.980099</td>\n",
       "    </tr>\n",
       "    <tr>\n",
       "      <th>72541</th>\n",
       "      <td>B01MR7FQB8</td>\n",
       "      <td>Shi Hydrate, Facial Moisturizer</td>\n",
       "      <td>shi hydrate facial moisturizer facial moisturizer lightweight creme specially chosen ingredient help condition tone skin sage watercress lemon bioflavonoids help purify revitalize oily combination skin condition antioxidant vitamin ac e also incorporated formula protect improve skin elasticity</td>\n",
       "      <td>0.979240</td>\n",
       "    </tr>\n",
       "  </tbody>\n",
       "</table>\n",
       "</div>"
      ],
      "text/plain": [
       "      parent_asin  \\\n",
       "88042  B00X6P92OG   \n",
       "74097  B079P8C9R9   \n",
       "72397  B06XP3T93N   \n",
       "59283  B075GDX7G4   \n",
       "72541  B01MR7FQB8   \n",
       "\n",
       "                                                                                                                                                                                                    title  \\\n",
       "88042  OZNaturals Tinted Moisturizer, SPF 30 Sunscreen. Broad Spectrum Protection. Zinc Oxide + Minerals In This Tinted Sunscreen Protects, Moisturizes And Blends Well To Provide A Rich, Youthful Glow!   \n",
       "74097                                                                                                                                               D24k 24K Day Moisturizer with SPF 15 - All Skin Types   \n",
       "72397                                                                                                                                                          MŪN Skin Care Anarose Hydrating Rose Toner   \n",
       "59283                                                                                        HISTOLAB Vitamin C Complex Ampoule 47% Made in Korea Essential Korean Beauty Skin Care Brilliant Skin Vita C   \n",
       "72541                                                                                                                                                                     Shi Hydrate, Facial Moisturizer   \n",
       "\n",
       "                                                                                                                                                                                                                                                                                                                                                                                                                                                                                                                                                                                                                                                                                                                                                                                                                                                                                                                                                  title_description_pre_processed  \\\n",
       "88042  oznaturals tinted moisturizer spf sunscreen broad spectrum protection zinc oxide mineral tinted sunscreen protects moisturizes blend well provide rich youthful glow skin care expert dermatologist agreement importance wearing sunscreen premature aging skin caused sun exposure photo aging known skin care circle includes wrinkle freckle age spot blotchy complexion dullness sagging skin rough leathery texture word every complaint surrounding aging skin traced least part sun exposure making daily sunscreen protection spf sunscreen must sunscreen created equal oznaturals age defying solar shield spf broad spectrum tinted sunscreen zinc oxide provides broad spectrum protection sun harmful uvauvb ray moisturizing skin healthylooking hint color utilizing highly stable reflective property zinc oxide natural uv diluting quality octyl methoxycinnamate formula offer sheer broadspectrum uv coverage luxurious tinted moisturizer formulation   \n",
       "74097                                                                                                                                                                                                                                                                                                                                                                                                                                                                                                                                                                                                                                                                                                                                                                                                                                                                                                                                          dk k day moisturizer spf skin type   \n",
       "72397                                                                                                                                                                                                                                                                                                                                                                                                                                             mn skin care anarose hydrating rose toner calming toner essential balancing skin ph cleansed bulgarian rosewater instantly soothes even sensitive skin hyaluronic acid firm skin provides longlasting hydration willow bark extract contains natural salicylic acid remove dead cell healthy glow prepares skin receive nutrient goji berry extract help reduce free radical damage provides antiaging benefit combination rose jasmine daisy extract recreates velvety sensation petal skin toner ph range effective skin type   \n",
       "59283                                                                                                                                                                                                                                                                                                                                                                                                                                                                                                                                                    histolab vitamin c complex ampoule made korea essential korean beauty skin care brilliant skin vita c vita c complex ampoule contains vita c complex excellent skin brightening agent help inhibit melanin synthesis also soothes moisturizes skin main ingredient vita c complexskin brightening arbutinmelanin synthesis inhibitory glycyrrhiza glabra powderevening complexion sodium hyaluronatesoothingmoisturizing   \n",
       "72541                                                                                                                                                                                                                                                                                                                                                                                                                                                                                                                                                                                                                                                                      shi hydrate facial moisturizer facial moisturizer lightweight creme specially chosen ingredient help condition tone skin sage watercress lemon bioflavonoids help purify revitalize oily combination skin condition antioxidant vitamin ac e also incorporated formula protect improve skin elasticity   \n",
       "\n",
       "       similarity  \n",
       "88042    0.982600  \n",
       "74097    0.981019  \n",
       "72397    0.980434  \n",
       "59283    0.980099  \n",
       "72541    0.979240  "
      ]
     },
     "execution_count": 172,
     "metadata": {},
     "output_type": "execute_result"
    }
   ],
   "source": [
    "item_id_to_recommend = 'B010PJYJIY'  # CeraVe AM Facial Moisturizing Lotion SPF 30 | Oil-Free Face Moisturizer with Sunscreen | Non-Comedogenic | 3 Ounce\n",
    "similar_items = get_similar_items(item_id_to_recommend, item_ids, lsa_matrix, top_n=5)\n",
    "\n",
    "similar_item_ids = [i[0] for i in similar_items]\n",
    "similarity_scores = {i[0]: i[1] for i in similar_items}  \n",
    "\n",
    "similar_items_df = df_items[df_items.parent_asin.isin(similar_item_ids)][['parent_asin', 'title', 'title_description_pre_processed']]\n",
    "similar_items_df['similarity'] = similar_items_df['parent_asin'].map(similarity_scores)\n",
    "\n",
    "similar_items_df = similar_items_df.sort_values(by='similarity', ascending=False)\n",
    "similar_items_df"
   ]
  },
  {
   "cell_type": "code",
   "execution_count": 173,
   "id": "33b82e7b-4d59-4438-8231-31f73fa1a868",
   "metadata": {},
   "outputs": [
    {
     "name": "stdout",
     "output_type": "stream",
     "text": [
      "Top similar items for item B00BD1D75U: [('B009AG5ZSC', 0.9882973564001214), ('B000G8LWZI', 0.9865733462255789), ('B004RRFO4O', 0.9865733462255789), ('B000N31QP2', 0.9865733462255789), ('B01IT9P9FO', 0.9860346615798006)]\n"
     ]
    },
    {
     "data": {
      "text/html": [
       "<div>\n",
       "<style scoped>\n",
       "    .dataframe tbody tr th:only-of-type {\n",
       "        vertical-align: middle;\n",
       "    }\n",
       "\n",
       "    .dataframe tbody tr th {\n",
       "        vertical-align: top;\n",
       "    }\n",
       "\n",
       "    .dataframe thead th {\n",
       "        text-align: right;\n",
       "    }\n",
       "</style>\n",
       "<table border=\"1\" class=\"dataframe\">\n",
       "  <thead>\n",
       "    <tr style=\"text-align: right;\">\n",
       "      <th></th>\n",
       "      <th>parent_asin</th>\n",
       "      <th>title</th>\n",
       "      <th>title_description_pre_processed</th>\n",
       "    </tr>\n",
       "  </thead>\n",
       "  <tbody>\n",
       "    <tr>\n",
       "      <th>8292</th>\n",
       "      <td>B000G8LWZI</td>\n",
       "      <td>Alpha Hydrox AHA Souffle Soothing Anti-Wrinkle 1.6 oz.</td>\n",
       "      <td>alpha hydrox aha souffle soothing antiwrinkle oz renew skin antiwrinkle souffle enjoy velvety soft skin using alpha hydrox glycolic aha souffle reduce fine line wrinkle therefore soften restore skin contains glycolic aha make skin radiant offer improved texture elasticity softens smoothens skin softens smoothens skin help reduce fine line wrinkle help reduce fine line wrinkle work antiwrinkle exfoliant work antiwrinkle exfoliant skin type closer look alpha hydrox glycolic aha souffle contains glycolic aha thats highly powerful rejuvenate skin also green tea preserve firmness therefore prevent harmful effect free radical get started follow instruction mentioned label best result</td>\n",
       "    </tr>\n",
       "    <tr>\n",
       "      <th>17078</th>\n",
       "      <td>B009AG5ZSC</td>\n",
       "      <td>Hale Cosmeceuticals C-Fine Milk Lotion, 1 oz</td>\n",
       "      <td>hale cosmeceuticals cfine milk lotion oz hale cosmeceuticals cfine milk lotion improves skin texture elasticity skinhealing vitamin c using vitamin c help decrease line wrinkle improving skin elasticity skin age vitamin c product concentrated refined directly absorbed skin maximum effect use hale cosmeceuticals cfine milk lotion treat damage freeradicals caused overexposure sun pollutant poor dieting habit younger skin</td>\n",
       "    </tr>\n",
       "    <tr>\n",
       "      <th>31557</th>\n",
       "      <td>B01IT9P9FO</td>\n",
       "      <td>Timeless Skin Care 20% Vitamin C + E Ferulic Acid Serum - 1 oz, Pack of 2 - Lightweight, Non-Greasy Formula - Use Daily to Brighten, Restore &amp; Correct Skin - Recommended for All Skin Types</td>\n",
       "      <td>timeless skin care vitamin c e ferulic acid serum oz pack lightweight nongreasy formula use daily brighten restore correct skin recommended skin type</td>\n",
       "    </tr>\n",
       "    <tr>\n",
       "      <th>53049</th>\n",
       "      <td>B004RRFO4O</td>\n",
       "      <td>Alpha Hydrox AHA Souffle Soothing Anti-Wrinkle 1.6 oz.</td>\n",
       "      <td>alpha hydrox aha souffle soothing antiwrinkle oz renew skin antiwrinkle souffle enjoy velvety soft skin using alpha hydrox glycolic aha souffle reduce fine line wrinkle therefore soften restore skin contains glycolic aha make skin radiant offer improved texture elasticity softens smoothens skin softens smoothens skin help reduce fine line wrinkle help reduce fine line wrinkle work antiwrinkle exfoliant work antiwrinkle exfoliant skin type closer look alpha hydrox glycolic aha souffle contains glycolic aha thats highly powerful rejuvenate skin also green tea preserve firmness therefore prevent harmful effect free radical get started follow instruction mentioned label best result</td>\n",
       "    </tr>\n",
       "    <tr>\n",
       "      <th>87593</th>\n",
       "      <td>B000N31QP2</td>\n",
       "      <td>Alpha Hydrox AHA Souffle Soothing Anti-Wrinkle 1.6 oz.</td>\n",
       "      <td>alpha hydrox aha souffle soothing antiwrinkle oz renew skin antiwrinkle souffle enjoy velvety soft skin using alpha hydrox glycolic aha souffle reduce fine line wrinkle therefore soften restore skin contains glycolic aha make skin radiant offer improved texture elasticity softens smoothens skin softens smoothens skin help reduce fine line wrinkle help reduce fine line wrinkle work antiwrinkle exfoliant work antiwrinkle exfoliant skin type closer look alpha hydrox glycolic aha souffle contains glycolic aha thats highly powerful rejuvenate skin also green tea preserve firmness therefore prevent harmful effect free radical get started follow instruction mentioned label best result</td>\n",
       "    </tr>\n",
       "  </tbody>\n",
       "</table>\n",
       "</div>"
      ],
      "text/plain": [
       "      parent_asin  \\\n",
       "8292   B000G8LWZI   \n",
       "17078  B009AG5ZSC   \n",
       "31557  B01IT9P9FO   \n",
       "53049  B004RRFO4O   \n",
       "87593  B000N31QP2   \n",
       "\n",
       "                                                                                                                                                                                              title  \\\n",
       "8292                                                                                                                                         Alpha Hydrox AHA Souffle Soothing Anti-Wrinkle 1.6 oz.   \n",
       "17078                                                                                                                                                  Hale Cosmeceuticals C-Fine Milk Lotion, 1 oz   \n",
       "31557  Timeless Skin Care 20% Vitamin C + E Ferulic Acid Serum - 1 oz, Pack of 2 - Lightweight, Non-Greasy Formula - Use Daily to Brighten, Restore & Correct Skin - Recommended for All Skin Types   \n",
       "53049                                                                                                                                        Alpha Hydrox AHA Souffle Soothing Anti-Wrinkle 1.6 oz.   \n",
       "87593                                                                                                                                        Alpha Hydrox AHA Souffle Soothing Anti-Wrinkle 1.6 oz.   \n",
       "\n",
       "                                                                                                                                                                                                                                                                                                                                                                                                                                                                                                                                                                                                                                                                                      title_description_pre_processed  \n",
       "8292   alpha hydrox aha souffle soothing antiwrinkle oz renew skin antiwrinkle souffle enjoy velvety soft skin using alpha hydrox glycolic aha souffle reduce fine line wrinkle therefore soften restore skin contains glycolic aha make skin radiant offer improved texture elasticity softens smoothens skin softens smoothens skin help reduce fine line wrinkle help reduce fine line wrinkle work antiwrinkle exfoliant work antiwrinkle exfoliant skin type closer look alpha hydrox glycolic aha souffle contains glycolic aha thats highly powerful rejuvenate skin also green tea preserve firmness therefore prevent harmful effect free radical get started follow instruction mentioned label best result  \n",
       "17078                                                                                                                                                                                                                                                                          hale cosmeceuticals cfine milk lotion oz hale cosmeceuticals cfine milk lotion improves skin texture elasticity skinhealing vitamin c using vitamin c help decrease line wrinkle improving skin elasticity skin age vitamin c product concentrated refined directly absorbed skin maximum effect use hale cosmeceuticals cfine milk lotion treat damage freeradicals caused overexposure sun pollutant poor dieting habit younger skin  \n",
       "31557                                                                                                                                                                                                                                                                                                                                                                                                                                                                                                                                                           timeless skin care vitamin c e ferulic acid serum oz pack lightweight nongreasy formula use daily brighten restore correct skin recommended skin type  \n",
       "53049  alpha hydrox aha souffle soothing antiwrinkle oz renew skin antiwrinkle souffle enjoy velvety soft skin using alpha hydrox glycolic aha souffle reduce fine line wrinkle therefore soften restore skin contains glycolic aha make skin radiant offer improved texture elasticity softens smoothens skin softens smoothens skin help reduce fine line wrinkle help reduce fine line wrinkle work antiwrinkle exfoliant work antiwrinkle exfoliant skin type closer look alpha hydrox glycolic aha souffle contains glycolic aha thats highly powerful rejuvenate skin also green tea preserve firmness therefore prevent harmful effect free radical get started follow instruction mentioned label best result  \n",
       "87593  alpha hydrox aha souffle soothing antiwrinkle oz renew skin antiwrinkle souffle enjoy velvety soft skin using alpha hydrox glycolic aha souffle reduce fine line wrinkle therefore soften restore skin contains glycolic aha make skin radiant offer improved texture elasticity softens smoothens skin softens smoothens skin help reduce fine line wrinkle help reduce fine line wrinkle work antiwrinkle exfoliant work antiwrinkle exfoliant skin type closer look alpha hydrox glycolic aha souffle contains glycolic aha thats highly powerful rejuvenate skin also green tea preserve firmness therefore prevent harmful effect free radical get started follow instruction mentioned label best result  "
      ]
     },
     "execution_count": 173,
     "metadata": {},
     "output_type": "execute_result"
    }
   ],
   "source": [
    "item_id_to_recommend = 'B00BD1D75U' # Eucerin Q10 Anti-Wrinkle Sensitive Skin Creme 1.7 oz (48 g)\n",
    "similar_items = get_similar_items(item_id_to_recommend,  item_ids, lsa_matrix, top_n=5)\n",
    "print(f\"Top similar items for item {item_id_to_recommend}: {similar_items}\")\n",
    "\n",
    "similar_item_ids = [i[0] for i in similar_items]\n",
    "df_items[df_items.parent_asin.isin(similar_item_ids)][['parent_asin', 'title', 'title_description_pre_processed']]"
   ]
  },
  {
   "cell_type": "code",
   "execution_count": 182,
   "id": "467d5c19-19b0-4e5c-bb3e-848c58473a1b",
   "metadata": {},
   "outputs": [
    {
     "name": "stdout",
     "output_type": "stream",
     "text": [
      "Top similar items for item B00CBQUQBO: [('B00O47HQUC', 0.9322358341288715), ('B079JPNPF3', 0.925584406733888), ('B01DI6U9BW', 0.921435489168978), ('B0194N0Z3A', 0.9202104557580403), ('B01EO5V51O', 0.9157751721468982)]\n"
     ]
    },
    {
     "data": {
      "text/html": [
       "<div>\n",
       "<style scoped>\n",
       "    .dataframe tbody tr th:only-of-type {\n",
       "        vertical-align: middle;\n",
       "    }\n",
       "\n",
       "    .dataframe tbody tr th {\n",
       "        vertical-align: top;\n",
       "    }\n",
       "\n",
       "    .dataframe thead th {\n",
       "        text-align: right;\n",
       "    }\n",
       "</style>\n",
       "<table border=\"1\" class=\"dataframe\">\n",
       "  <thead>\n",
       "    <tr style=\"text-align: right;\">\n",
       "      <th></th>\n",
       "      <th>parent_asin</th>\n",
       "      <th>title</th>\n",
       "      <th>title_description_pre_processed</th>\n",
       "    </tr>\n",
       "  </thead>\n",
       "  <tbody>\n",
       "    <tr>\n",
       "      <th>1003</th>\n",
       "      <td>B079JPNPF3</td>\n",
       "      <td>Aeroblend Airbrush Makeup Foundation (O35), Suitable for All Skin Type Giving Flawless Effect, Hypoallergenic Foundation, Fragrance Free and Long Lasting</td>\n",
       "      <td>aeroblend airbrush makeup foundation suitable skin type giving flawless effect hypoallergenic foundation fragrance free long lasting waterbased formulated even sensitive skin type contains fragrance parabens petroleum derived ingredient added botanical mineral ingredient like kaolin lavender jojoba hydrate sooth skin soft focus pigment give coverage appropriate even hd use color wide range color selection ensures skin tone ml fl oz</td>\n",
       "    </tr>\n",
       "    <tr>\n",
       "      <th>8393</th>\n",
       "      <td>B01DI6U9BW</td>\n",
       "      <td>Ulta Beauty Adjustable Coverage Foundation Wet/Dry Powder ~ (beige with more neutral undertones) Medium</td>\n",
       "      <td>ulta beauty adjustable coverage foundation wetdry powder beige neutral undertone medium creamy moisturizing formula provides flawless luminous finish formula glide effortlessly onto skin skin feel smooth comfortable application innovative blend ingredient ensures powder adheres skin look last last use formula wet dry adjustable coverage</td>\n",
       "    </tr>\n",
       "    <tr>\n",
       "      <th>75744</th>\n",
       "      <td>B0194N0Z3A</td>\n",
       "      <td>Charlotte Tilbury 'The Retoucher' Conceal &amp; Treat Stick Wand - 2 Fair</td>\n",
       "      <td>charlotte tilbury retoucher conceal treat stick wand fair retoucher concealer fair perfect people light skin tone highly pigmented formula ultracovering colour correcting texture smooth moisturise skin whilst reducing imperfection make retoucher concealer magic hydrating complex keep skin plump moisturized natural luminous finish black tea derivative rich vitamin fill hollowed skin groove creating smooth seamless surface breakthrough liposiliconic compound special elastomer pearl create invisible plaster imperfection creating traceless natural finish ideal concealing imperfection blemish flawless skin every day parabenfree fill ml carton dimension mm x x create perfect base makeup top concealer tip charlotte recommends use shade light wonder shade magic foundation shade airbrush flawless finish fair medium</td>\n",
       "    </tr>\n",
       "    <tr>\n",
       "      <th>77584</th>\n",
       "      <td>B00O47HQUC</td>\n",
       "      <td>Shiseido FUTURE SOLUTION LX Total Radiance Foundation # I20 Natural Light Ivory 30ml</td>\n",
       "      <td>shiseido future solution lx total radiance foundation natural light ivory ml ultimate agedefying foundation infinite beauty work perfect synergy future solution lx skincare create exquisitely radiant finish retextured lifted brightened skin beam flawless vibrance formulated shiseidos exclusive skingenecell p counteract appearance future aging contains msk innovative brightening ingredient luminous even skin tone refines skin texture enhancing radiant complexion aura radiance powder beautiful finish last throughout day time match powder corrects visible sign aging loss firmness wrinkle dark spot dullness pore maintains essential moisture long lasting healthy brighter look</td>\n",
       "    </tr>\n",
       "    <tr>\n",
       "      <th>98102</th>\n",
       "      <td>B01EO5V51O</td>\n",
       "      <td>Inglot HD PERFECT COVERUP FOUNDATION 77 | 35 ml/1.18 US FL OZ</td>\n",
       "      <td>inglot hd perfect coverup foundation ml u fl oz</td>\n",
       "    </tr>\n",
       "  </tbody>\n",
       "</table>\n",
       "</div>"
      ],
      "text/plain": [
       "      parent_asin  \\\n",
       "1003   B079JPNPF3   \n",
       "8393   B01DI6U9BW   \n",
       "75744  B0194N0Z3A   \n",
       "77584  B00O47HQUC   \n",
       "98102  B01EO5V51O   \n",
       "\n",
       "                                                                                                                                                           title  \\\n",
       "1003   Aeroblend Airbrush Makeup Foundation (O35), Suitable for All Skin Type Giving Flawless Effect, Hypoallergenic Foundation, Fragrance Free and Long Lasting   \n",
       "8393                                                     Ulta Beauty Adjustable Coverage Foundation Wet/Dry Powder ~ (beige with more neutral undertones) Medium   \n",
       "75744                                                                                      Charlotte Tilbury 'The Retoucher' Conceal & Treat Stick Wand - 2 Fair   \n",
       "77584                                                                       Shiseido FUTURE SOLUTION LX Total Radiance Foundation # I20 Natural Light Ivory 30ml   \n",
       "98102                                                                                              Inglot HD PERFECT COVERUP FOUNDATION 77 | 35 ml/1.18 US FL OZ   \n",
       "\n",
       "                                                                                                                                                                                                                                                                                                                                                                                                                                                                                                                                                                                                                                                                                                                                                                                                                         title_description_pre_processed  \n",
       "1003                                                                                                                                                                                                                                                                                                                                                                                                 aeroblend airbrush makeup foundation suitable skin type giving flawless effect hypoallergenic foundation fragrance free long lasting waterbased formulated even sensitive skin type contains fragrance parabens petroleum derived ingredient added botanical mineral ingredient like kaolin lavender jojoba hydrate sooth skin soft focus pigment give coverage appropriate even hd use color wide range color selection ensures skin tone ml fl oz  \n",
       "8393                                                                                                                                                                                                                                                                                                                                                                                                                                                                                                  ulta beauty adjustable coverage foundation wetdry powder beige neutral undertone medium creamy moisturizing formula provides flawless luminous finish formula glide effortlessly onto skin skin feel smooth comfortable application innovative blend ingredient ensures powder adheres skin look last last use formula wet dry adjustable coverage  \n",
       "75744  charlotte tilbury retoucher conceal treat stick wand fair retoucher concealer fair perfect people light skin tone highly pigmented formula ultracovering colour correcting texture smooth moisturise skin whilst reducing imperfection make retoucher concealer magic hydrating complex keep skin plump moisturized natural luminous finish black tea derivative rich vitamin fill hollowed skin groove creating smooth seamless surface breakthrough liposiliconic compound special elastomer pearl create invisible plaster imperfection creating traceless natural finish ideal concealing imperfection blemish flawless skin every day parabenfree fill ml carton dimension mm x x create perfect base makeup top concealer tip charlotte recommends use shade light wonder shade magic foundation shade airbrush flawless finish fair medium  \n",
       "77584                                                                                                                                            shiseido future solution lx total radiance foundation natural light ivory ml ultimate agedefying foundation infinite beauty work perfect synergy future solution lx skincare create exquisitely radiant finish retextured lifted brightened skin beam flawless vibrance formulated shiseidos exclusive skingenecell p counteract appearance future aging contains msk innovative brightening ingredient luminous even skin tone refines skin texture enhancing radiant complexion aura radiance powder beautiful finish last throughout day time match powder corrects visible sign aging loss firmness wrinkle dark spot dullness pore maintains essential moisture long lasting healthy brighter look  \n",
       "98102                                                                                                                                                                                                                                                                                                                                                                                                                                                                                                                                                                                                                                                                                                                                                                                                    inglot hd perfect coverup foundation ml u fl oz  "
      ]
     },
     "execution_count": 182,
     "metadata": {},
     "output_type": "execute_result"
    }
   ],
   "source": [
    "item_id_to_recommend = 'B00CBQUQBO' # Mac Studio Tech Foundation 10g NC30\n",
    "similar_items = get_similar_items(item_id_to_recommend,  item_ids, lsa_matrix, top_n=5)\n",
    "print(f\"Top similar items for item {item_id_to_recommend}: {similar_items}\")\n",
    "\n",
    "similar_item_ids = [i[0] for i in similar_items]\n",
    "df_items[df_items.parent_asin.isin(similar_item_ids)][['parent_asin', 'title', 'title_description_pre_processed']]"
   ]
  },
  {
   "cell_type": "markdown",
   "id": "e0feb2a7-fbeb-4e1a-97f6-15238db413f0",
   "metadata": {},
   "source": [
    "# Evaluate"
   ]
  },
  {
   "cell_type": "code",
   "execution_count": 191,
   "id": "c5ee2c00-0732-4e9e-98b5-6b128428efa1",
   "metadata": {},
   "outputs": [],
   "source": [
    "def recommend_for_user(user_id, ground_truth, item_ids, lsa_matrix, top_n=5):\n",
    "    \"\"\"\n",
    "    Generate recommendations for a user by recommending items similar to their interacted items.\n",
    "    \"\"\"\n",
    "    recommendations = set() \n",
    "\n",
    "    for item_id in ground_truth.get(user_id, []):\n",
    "        \n",
    "        similar_items = get_similar_items(item_id, item_ids, lsa_matrix, top_n)\n",
    "        recommendations.update([item[0] for item in similar_items])  \n",
    "    \n",
    "    # return top recommendations excluding items already interacted with\n",
    "    interacted_items = set(ground_truth.get(user_id, []))\n",
    "    recommendations = [item for item in recommendations if item not in interacted_items]\n",
    "    return recommendations[:top_n]\n"
   ]
  },
  {
   "cell_type": "code",
   "execution_count": 197,
   "id": "ff677751-8d05-4742-882b-1f1e1becd1f6",
   "metadata": {},
   "outputs": [],
   "source": [
    "def evaluate_recommender(ground_truth, item_ids, lsa_matrix, top_n=5):\n",
    "    \"\"\"\n",
    "    Evaluate the recommender system using precision, recall, and coverage.\n",
    "\n",
    "    Parameters:\n",
    "        ground_truth: Mapping of user_id to items they interacted with.\n",
    "        item_ids: List of all item ids.\n",
    "        lsa_matrix: LSA matrix for items.\n",
    "        top_n: Number of recommendations per user.\n",
    "\n",
    "    Returns:\n",
    "        precision, recall, coverage\n",
    "    \"\"\"\n",
    "    total_recommendations = 0\n",
    "    total_relevant = 0\n",
    "    total_relevant_recommended = 0\n",
    "    unique_recommended_items = set()\n",
    "\n",
    "    for user_id, relevant_items in tqdm(ground_truth.items(), total=len(ground_truth)):\n",
    "        # get recommendations\n",
    "        recommended_items = recommend_for_user(user_id, ground_truth, item_ids, lsa_matrix, top_n)\n",
    "\n",
    "        # calculate relevant items recommended\n",
    "        relevant_recommended = set(recommended_items) & set(relevant_items)\n",
    "\n",
    "        # update counts\n",
    "        total_relevant_recommended += len(relevant_recommended)\n",
    "        total_recommendations += len(recommended_items)\n",
    "        total_relevant += len(relevant_items)\n",
    "        unique_recommended_items.update(recommended_items)\n",
    "\n",
    "    precision = total_relevant_recommended / total_recommendations if total_recommendations > 0 else 0\n",
    "    recall = total_relevant_recommended / total_relevant if total_relevant > 0 else 0\n",
    "\n",
    "    # coverage: unique recommended / total items\n",
    "    coverage = len(unique_recommended_items) / len(item_ids)\n",
    "\n",
    "    return precision, recall, coverage\n"
   ]
  },
  {
   "cell_type": "code",
   "execution_count": 200,
   "id": "30520eb0-dc69-46d1-bb41-9b84806dff26",
   "metadata": {},
   "outputs": [
    {
     "data": {
      "text/plain": [
       "330"
      ]
     },
     "execution_count": 200,
     "metadata": {},
     "output_type": "execute_result"
    }
   ],
   "source": [
    "reviews_per_user = df_reviews.groupby('user_id').size()\n",
    "df_reviews['num_reviews_per_user'] = df_reviews['user_id'].map(reviews_per_user)\n",
    "\n",
    "# leave only users with at least 5 reviews in order to increase relevant items in the dataset and reduce time for evaluation\n",
    "df_reviews = df_reviews.loc[df_reviews.num_reviews_per_user >= 5].reset_index(drop=True)\n",
    "\n",
    "ground_truth = df_reviews.groupby('user_id')['parent_asin'].apply(list).to_dict()\n",
    "len(ground_truth)"
   ]
  },
  {
   "cell_type": "code",
   "execution_count": 206,
   "id": "297c6b25-2f45-43f8-8913-a501f1dff658",
   "metadata": {},
   "outputs": [
    {
     "name": "stderr",
     "output_type": "stream",
     "text": [
      "100%|███████████████████████████████████████████| 53/53 [03:34<00:00,  4.05s/it]\n"
     ]
    }
   ],
   "source": [
    "precision, recall, coverage = evaluate_recommender(ground_truth, item_ids, lsa_matrix, top_n=20)"
   ]
  },
  {
   "cell_type": "code",
   "execution_count": null,
   "id": "b5b14bd4-4a3f-42fc-9b2f-9e8af97bb53c",
   "metadata": {},
   "outputs": [],
   "source": [
    "print(f\"Precision: {precision:.4f}\")\n",
    "print(f\"Recall: {recall:.4f}\")\n",
    "print(f\"Coverage: {coverage:.4f}\")"
   ]
  },
  {
   "cell_type": "code",
   "execution_count": null,
   "id": "6062bcdb-2ecf-4bd6-90ca-89753b2b0536",
   "metadata": {},
   "outputs": [],
   "source": []
  }
 ],
 "metadata": {
  "kernelspec": {
   "display_name": "Python 3 (ipykernel)",
   "language": "python",
   "name": "python3"
  },
  "language_info": {
   "codemirror_mode": {
    "name": "ipython",
    "version": 3
   },
   "file_extension": ".py",
   "mimetype": "text/x-python",
   "name": "python",
   "nbconvert_exporter": "python",
   "pygments_lexer": "ipython3",
   "version": "3.12.3"
  }
 },
 "nbformat": 4,
 "nbformat_minor": 5
}
